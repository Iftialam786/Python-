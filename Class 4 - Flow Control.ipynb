{
 "cells": [
  {
   "cell_type": "markdown",
   "id": "0b4ae171",
   "metadata": {},
   "source": [
    "# Flow control"
   ]
  },
  {
   "cell_type": "markdown",
   "id": "7e10591e",
   "metadata": {},
   "source": [
    "**if and else - base on the satisfying condition we can get the output**"
   ]
  },
  {
   "cell_type": "markdown",
   "id": "ba6a320c",
   "metadata": {},
   "source": [
    "**Syntax**\n",
    "\n",
    "if condition:\n",
    "\n",
    "    perform the task if the above condition is satisfied \n",
    "    \n",
    "else:\n",
    "\n",
    "    perform the task if the of condition is no satisfied \n",
    "    \n",
    "**so the colon : is important after every condition and tab indentation is important as well**"
   ]
  },
  {
   "cell_type": "code",
   "execution_count": 1,
   "id": "2285ff66",
   "metadata": {},
   "outputs": [
    {
     "name": "stdout",
     "output_type": "stream",
     "text": [
      "Enter the marks:55\n",
      "You pass the exam\n"
     ]
    }
   ],
   "source": [
    "marks = int(input('Enter the marks:'))\n",
    "if marks < 40:\n",
    "    print('You failed the exam')\n",
    "    print('Hi')\n",
    "else:\n",
    "    print('You pass the exam')"
   ]
  },
  {
   "cell_type": "code",
   "execution_count": 2,
   "id": "2d063d08",
   "metadata": {},
   "outputs": [
    {
     "name": "stdout",
     "output_type": "stream",
     "text": [
      "Enter the marks:55\n",
      "You pass the exam\n",
      "Hello\n"
     ]
    }
   ],
   "source": [
    "marks = int(input('Enter the marks:'))\n",
    "if marks < 40:\n",
    "    print('You failed the exam')\n",
    "    print('Hi')\n",
    "else:\n",
    "    print('You pass the exam')\n",
    "#This hello is outside the if else block\n",
    "print('Hello')"
   ]
  },
  {
   "cell_type": "code",
   "execution_count": 3,
   "id": "f074e6d4",
   "metadata": {},
   "outputs": [
    {
     "name": "stdout",
     "output_type": "stream",
     "text": [
      "Enter the marks: 55\n",
      "You got an average marks\n"
     ]
    }
   ],
   "source": [
    "marks = int(input('Enter the marks: '))\n",
    "if marks<40:\n",
    "    print('You failed the exam')\n",
    "elif marks>= 40 and marks<=60:\n",
    "    print('You got an average marks')\n",
    "else:\n",
    "    print('You got excellent marks')"
   ]
  },
  {
   "cell_type": "code",
   "execution_count": 4,
   "id": "1095fbf7",
   "metadata": {},
   "outputs": [
    {
     "name": "stdout",
     "output_type": "stream",
     "text": [
      "Enter the marks: 66\n",
      "You got excellent marks\n"
     ]
    }
   ],
   "source": [
    "marks = int(input('Enter the marks: '))\n",
    "if marks<40:\n",
    "    print('You failed the exam')\n",
    "elif marks>= 40 and marks<=60:\n",
    "    print('You got an average marks')\n",
    "elif marks >60:\n",
    "    print('You got excellent marks')"
   ]
  },
  {
   "cell_type": "markdown",
   "id": "d7c26be3",
   "metadata": {},
   "source": [
    "**Banking Examples for if and else**"
   ]
  },
  {
   "cell_type": "markdown",
   "id": "fc64ce78",
   "metadata": {},
   "source": [
    "1) Account Balance check\n"
   ]
  },
  {
   "cell_type": "code",
   "execution_count": 5,
   "id": "e201f979",
   "metadata": {},
   "outputs": [
    {
     "name": "stdout",
     "output_type": "stream",
     "text": [
      "Enter the account balance: 100\n",
      "Your account is in good standing\n"
     ]
    }
   ],
   "source": [
    "account_balance = int(input('Enter the account balance: '))\n",
    "if account_balance>0:\n",
    "    print('Your account is in good standing')\n",
    "else: \n",
    "    print('Your account balance is negative, please take action')"
   ]
  },
  {
   "cell_type": "markdown",
   "id": "d3f78aba",
   "metadata": {},
   "source": [
    "2) Loan Eligibility"
   ]
  },
  {
   "cell_type": "code",
   "execution_count": 6,
   "id": "d6cef254",
   "metadata": {},
   "outputs": [
    {
     "name": "stdout",
     "output_type": "stream",
     "text": [
      "Enter the income: 70000\n",
      "Enter the credit score: 889\n",
      "You are eligible for the loan, congratulations!!!\n"
     ]
    }
   ],
   "source": [
    "income = int(input('Enter the income: '))\n",
    "credit_score = int(input('Enter the credit score: '))\n",
    "\n",
    "if income>50000 and credit_score>750:\n",
    "    print('You are eligible for the loan, congratulations!!!')\n",
    "else:\n",
    "    print('You are not eligible for the loan, sorry!!!')"
   ]
  },
  {
   "cell_type": "markdown",
   "id": "a357f32a",
   "metadata": {},
   "source": [
    "3) withdrawal limit check"
   ]
  },
  {
   "cell_type": "code",
   "execution_count": 7,
   "id": "04289d14",
   "metadata": {},
   "outputs": [
    {
     "name": "stdout",
     "output_type": "stream",
     "text": [
      "Enter the amount you want to withdraw: 1120\n",
      "Withdrawal amount exceeds the daily limit\n"
     ]
    }
   ],
   "source": [
    "withdrawal_amount = int(input('Enter the amount you want to withdraw: '))\n",
    "daily_limit = 1000\n",
    "\n",
    "if withdrawal_amount<=daily_limit:\n",
    "    print('Withdrawal Successfull')\n",
    "else:\n",
    "    print('Withdrawal amount exceeds the daily limit')"
   ]
  },
  {
   "cell_type": "markdown",
   "id": "01c90149",
   "metadata": {},
   "source": [
    "4) Transaction fee calculations _ Nested if else"
   ]
  },
  {
   "cell_type": "code",
   "execution_count": 22,
   "id": "1a9b8dfa",
   "metadata": {},
   "outputs": [
    {
     "name": "stdout",
     "output_type": "stream",
     "text": [
      "Enter the transaction amount: 2\n",
      "Enter the transaction type: withdrawal\n",
      "total_amount:  4\n"
     ]
    }
   ],
   "source": [
    "transaction_amount = int(input('Enter the transaction amount: '))\n",
    "transaction_type = input('Enter the transaction type: ')\n",
    "\n",
    "if transaction_type== 'withdrawal':\n",
    "    if transaction_amount>1000:\n",
    "        transaction_fee = 5\n",
    "    elif transaction_amount<=1000:\n",
    "        transaction_fee=2\n",
    "elif transaction_type =='deposite':\n",
    "    transaction_fee =0\n",
    "else:\n",
    "    print('please pass the correct option')\n",
    "    \n",
    "total_amount = transaction_amount+transaction_fee\n",
    "print('total_amount: ',total_amount)"
   ]
  },
  {
   "cell_type": "markdown",
   "id": "db40f694",
   "metadata": {},
   "source": [
    "5) Tax calculator"
   ]
  },
  {
   "cell_type": "code",
   "execution_count": 30,
   "id": "175417b7",
   "metadata": {},
   "outputs": [
    {
     "name": "stdout",
     "output_type": "stream",
     "text": [
      "Enter the salary: -1\n",
      "Income cannot be negative\n"
     ]
    }
   ],
   "source": [
    "income = int(input('Enter the salary: '))\n",
    "if income>=0 and income<=2500:\n",
    "    print('The total tax you have to pay is: ', income*0.00)\n",
    "elif income>2500 and income<=5000:\n",
    "    print('The total tax you have to pay is: ', income*0.05)\n",
    "elif income>5000 and income<=10000:\n",
    "    print('The total tax you have to pay is: ', income*0.10)\n",
    "elif income>10000 and income<=20000:\n",
    "    print('The total tax you have to pay is: ', income*0.20)\n",
    "elif income>20000:\n",
    "    print('The total tax you have to pay is: ', income*0.30)\n",
    "else:\n",
    "    print('Income cannot be negative')"
   ]
  },
  {
   "cell_type": "markdown",
   "id": "3261f809",
   "metadata": {},
   "source": [
    "**For loop - when you want to iterate on something for example: Tuples, List, Sets String...**"
   ]
  },
  {
   "cell_type": "markdown",
   "id": "18eacf49",
   "metadata": {},
   "source": [
    "syntax\n",
    "\n",
    "for i in something:\n",
    "\n",
    "    getouput"
   ]
  },
  {
   "cell_type": "code",
   "execution_count": 32,
   "id": "bb7fa667",
   "metadata": {},
   "outputs": [
    {
     "name": "stdout",
     "output_type": "stream",
     "text": [
      "A B C D E "
     ]
    }
   ],
   "source": [
    "stu_list = ['A', 'B','C','D', 'E']\n",
    "for i in stu_list:\n",
    "    print(i, end=' ')"
   ]
  },
  {
   "cell_type": "code",
   "execution_count": 33,
   "id": "15eabf4f",
   "metadata": {},
   "outputs": [
    {
     "name": "stdout",
     "output_type": "stream",
     "text": [
      "A\n",
      "B\n",
      "C\n",
      "D\n",
      "E\n"
     ]
    }
   ],
   "source": [
    "stu_list = ['A', 'B','C','D', 'E']\n",
    "for i in stu_list:\n",
    "    print(i)"
   ]
  },
  {
   "cell_type": "code",
   "execution_count": 37,
   "id": "38ec18b5",
   "metadata": {},
   "outputs": [
    {
     "name": "stdout",
     "output_type": "stream",
     "text": [
      "T h e   S c h o l a r "
     ]
    }
   ],
   "source": [
    "for i in 'The Scholar':\n",
    "    print(i,end=' ')"
   ]
  },
  {
   "cell_type": "markdown",
   "id": "28252c7b",
   "metadata": {},
   "source": [
    "**Banking Example- for loop**"
   ]
  },
  {
   "cell_type": "code",
   "execution_count": 39,
   "id": "9268620a",
   "metadata": {},
   "outputs": [],
   "source": [
    "sales = [3454, 2234,5443,2321]\n",
    "profit =[455,333,221,122]"
   ]
  },
  {
   "cell_type": "code",
   "execution_count": 45,
   "id": "a24f8fa4",
   "metadata": {},
   "outputs": [
    {
     "name": "stdout",
     "output_type": "stream",
     "text": [
      "0.13173132599884194\n",
      "0.14905998209489704\n",
      "0.040602608855410616\n",
      "0.052563550193881946\n"
     ]
    }
   ],
   "source": [
    "for i in [0,1,2,3]:\n",
    "    print(profit[i]/sales[i])"
   ]
  },
  {
   "cell_type": "code",
   "execution_count": 46,
   "id": "601816c4",
   "metadata": {},
   "outputs": [
    {
     "name": "stdout",
     "output_type": "stream",
     "text": [
      "0.13173132599884194\n",
      "0.14905998209489704\n",
      "0.040602608855410616\n",
      "0.052563550193881946\n"
     ]
    }
   ],
   "source": [
    "for i in range(len(sales)):\n",
    "    print(profit[i]/sales[i])"
   ]
  },
  {
   "cell_type": "code",
   "execution_count": 48,
   "id": "02b7e2e5",
   "metadata": {},
   "outputs": [],
   "source": [
    "profit_ratio=[]\n",
    "for i in range(len(sales)):\n",
    "    profit_ratio.append(profit[i]/sales[i])"
   ]
  },
  {
   "cell_type": "code",
   "execution_count": 49,
   "id": "62ed8375",
   "metadata": {},
   "outputs": [
    {
     "data": {
      "text/plain": [
       "[0.13173132599884194,\n",
       " 0.14905998209489704,\n",
       " 0.040602608855410616,\n",
       " 0.052563550193881946]"
      ]
     },
     "execution_count": 49,
     "metadata": {},
     "output_type": "execute_result"
    }
   ],
   "source": [
    "profit_ratio"
   ]
  },
  {
   "cell_type": "markdown",
   "id": "1c432bf2",
   "metadata": {},
   "source": [
    "Transaction History"
   ]
  },
  {
   "cell_type": "code",
   "execution_count": 50,
   "id": "a23f3474",
   "metadata": {},
   "outputs": [
    {
     "name": "stdout",
     "output_type": "stream",
     "text": [
      "deposit;  50\n",
      "withdraw:  20\n",
      "deposit;  100\n",
      "withdraw:  30\n",
      "withdraw:  20\n"
     ]
    }
   ],
   "source": [
    "transaction_history = [50,-20,100,-30,-20]\n",
    "for i in transaction_history:\n",
    "    if i>0:\n",
    "        print('deposit; ',i)\n",
    "    else:\n",
    "        print('withdraw: ', abs(i))"
   ]
  },
  {
   "cell_type": "markdown",
   "id": "0edfd5b3",
   "metadata": {},
   "source": [
    "Account Summation"
   ]
  },
  {
   "cell_type": "code",
   "execution_count": 52,
   "id": "0856dcdf",
   "metadata": {},
   "outputs": [
    {
     "name": "stdout",
     "output_type": "stream",
     "text": [
      "total account balance:  6000\n"
     ]
    }
   ],
   "source": [
    "account_balance =[1000,2000,3000,2000,-5000,3000]\n",
    "total_balance = 0\n",
    "for balance in account_balance:\n",
    "    total_balance+=balance\n",
    "    \n",
    "print('total account balance: ',total_balance)"
   ]
  },
  {
   "cell_type": "markdown",
   "id": "665c4ad6",
   "metadata": {},
   "source": [
    "Interest calculation"
   ]
  },
  {
   "cell_type": "code",
   "execution_count": 53,
   "id": "d528736f",
   "metadata": {},
   "outputs": [
    {
     "name": "stdout",
     "output_type": "stream",
     "text": [
      "updated account balance:  [1050.0, 2100.0, 3150.0, 2100.0, 5250.0, 3150.0]\n"
     ]
    }
   ],
   "source": [
    "account_balance = [1000, 2000,3000,2000,5000,3000]\n",
    "interest_rate = 0.05\n",
    "\n",
    "#for i in account_balance:\n",
    " #   interest = interest_rate*account_balance \n",
    "#    account_balace[]\n",
    "\n",
    "for i in range(len(account_balance)):\n",
    "    interest = interest_rate*account_balance[i]\n",
    "    account_balance[i] +=interest\n",
    "    \n",
    "print('updated account balance: ', account_balance)"
   ]
  },
  {
   "cell_type": "markdown",
   "id": "6bfaca71",
   "metadata": {},
   "source": [
    "Account Closure"
   ]
  },
  {
   "cell_type": "code",
   "execution_count": 56,
   "id": "011b4992",
   "metadata": {},
   "outputs": [
    {
     "name": "stdout",
     "output_type": "stream",
     "text": [
      "which account to close: 432553\n",
      "Account not found\n",
      "Account not found\n",
      "Account not found\n",
      "Account not found\n",
      "Remaining account:  [123456, 345678, 789012, 901234]\n"
     ]
    }
   ],
   "source": [
    "account_numbers =[123456,345678,789012, 901234]\n",
    "account_to_close = int(input('which account to close: '))\n",
    "\n",
    "for account in account_numbers:\n",
    "    if account==account_to_close:\n",
    "        print('Closing account: ', account)\n",
    "        account_numbers.remove(account)\n",
    "        break\n",
    "    else:\n",
    "        print('Account not found')\n",
    "\n",
    "print('Remaining account: ', account_numbers)"
   ]
  },
  {
   "cell_type": "code",
   "execution_count": 57,
   "id": "ece368df",
   "metadata": {},
   "outputs": [
    {
     "name": "stdout",
     "output_type": "stream",
     "text": [
      "which account to close: 1234532\n",
      "Remaining account:  [123456, 345678, 789012, 901234]\n"
     ]
    }
   ],
   "source": [
    "account_numbers =[123456,345678,789012, 901234]\n",
    "account_to_close = int(input('which account to close: '))\n",
    "\n",
    "for account in account_numbers:\n",
    "    if account==account_to_close:\n",
    "        print('Closing account: ', account)\n",
    "        account_numbers.remove(account)\n",
    "        break\n",
    "\n",
    "\n",
    "print('Remaining account: ', account_numbers)"
   ]
  },
  {
   "cell_type": "markdown",
   "id": "a05eebef",
   "metadata": {},
   "source": [
    "Account Statement"
   ]
  },
  {
   "cell_type": "code",
   "execution_count": 59,
   "id": "d4367e14",
   "metadata": {},
   "outputs": [],
   "source": [
    "account_transaction = [{'date':'2023-07-01', 'type':'deposite','amount':100},\n",
    "                      {'date':'2023-07-02', 'type':'withdraw','amount':50},\n",
    "                      {'date':'2023-07-03', 'type':'deposite','amount':200},\n",
    "                      {'date':'2023-07-04', 'type':'withdraw','amount':75}]"
   ]
  },
  {
   "cell_type": "code",
   "execution_count": 60,
   "id": "d3ac8510",
   "metadata": {},
   "outputs": [
    {
     "data": {
      "text/plain": [
       "[{'date': '2023-07-01', 'type': 'deposite', 'amount': 100},\n",
       " {'date': '2023-07-02', 'type': 'withdraw', 'amount': 50},\n",
       " {'date': '2023-07-03', 'type': 'deposite', 'amount': 200},\n",
       " {'date': '2023-07-04', 'type': 'withdraw', 'amount': 75}]"
      ]
     },
     "execution_count": 60,
     "metadata": {},
     "output_type": "execute_result"
    }
   ],
   "source": [
    "account_transaction"
   ]
  },
  {
   "cell_type": "code",
   "execution_count": 62,
   "id": "8eb03138",
   "metadata": {},
   "outputs": [
    {
     "name": "stdout",
     "output_type": "stream",
     "text": [
      "Account Statement\n",
      "2023-07-01 - deposite - 100\n",
      "2023-07-02 - withdraw - 50\n",
      "2023-07-03 - deposite - 200\n",
      "2023-07-04 - withdraw - 75\n"
     ]
    }
   ],
   "source": [
    "print(\"Account Statement\")\n",
    "for transaction in account_transaction:\n",
    "    print(transaction['date'],\"-\", transaction['type'],\"-\", transaction['amount'])"
   ]
  },
  {
   "cell_type": "code",
   "execution_count": 5,
   "id": "d8848a9d",
   "metadata": {},
   "outputs": [
    {
     "name": "stdout",
     "output_type": "stream",
     "text": [
      "2023-07-01 - deposite - 100\n",
      "2023-07-01 - withdraw - 50\n",
      "2023-07-03 - deposite - 200\n",
      "2023-07-04 - withdraw - 75\n"
     ]
    }
   ],
   "source": [
    "transaction_date =['2023-07-01','2023-07-01','2023-07-03','2023-07-04']\n",
    "transaction_type = ['deposite','withdraw','deposite','withdraw']\n",
    "transaction_amount = [100,50,200,75]\n",
    "\n",
    "for (td,tt,ta) in zip(transaction_date,transaction_type,transaction_amount):\n",
    "    print(td, '-',tt,'-',ta)"
   ]
  },
  {
   "cell_type": "markdown",
   "id": "79aaf3d9",
   "metadata": {},
   "source": [
    "**while loops-it will run till the time condition is satisfied**"
   ]
  },
  {
   "cell_type": "code",
   "execution_count": null,
   "id": "8ad2b475",
   "metadata": {},
   "outputs": [],
   "source": [
    "while condition:\n",
    "    getoutput"
   ]
  },
  {
   "cell_type": "markdown",
   "id": "95bb7f2b",
   "metadata": {},
   "source": [
    "**below code will go for the infinite loop, because the condition will always be true**"
   ]
  },
  {
   "cell_type": "code",
   "execution_count": 7,
   "id": "39dcce2e",
   "metadata": {},
   "outputs": [],
   "source": [
    "#while 1=1:\n",
    "#    print(\"hi\")"
   ]
  },
  {
   "cell_type": "code",
   "execution_count": 8,
   "id": "039d7821",
   "metadata": {},
   "outputs": [
    {
     "name": "stdout",
     "output_type": "stream",
     "text": [
      "Hello\n"
     ]
    }
   ],
   "source": [
    "while 1==2:\n",
    "    print('Hi')\n",
    "print('Hello')"
   ]
  },
  {
   "cell_type": "markdown",
   "id": "c9eebcc0",
   "metadata": {},
   "source": [
    "**Practical Example-While loop**"
   ]
  },
  {
   "cell_type": "markdown",
   "id": "06b43ae6",
   "metadata": {},
   "source": [
    "**Marketing**"
   ]
  },
  {
   "cell_type": "code",
   "execution_count": 9,
   "id": "f637a01d",
   "metadata": {},
   "outputs": [
    {
     "name": "stdout",
     "output_type": "stream",
     "text": [
      "There are total:  5 coupouns left\n",
      "There are total:  4 coupouns left\n",
      "There are total:  3 coupouns left\n",
      "There are total:  2 coupouns left\n",
      "There are total:  1 coupouns left\n",
      "no coupouns left\n"
     ]
    }
   ],
   "source": [
    "coupouns =5\n",
    "utilized =0\n",
    "\n",
    "while utilized<coupouns:\n",
    "    print('There are total: ', coupouns-utilized, 'coupouns left')\n",
    "    utilized+=1\n",
    "print ('no coupouns left')"
   ]
  },
  {
   "cell_type": "markdown",
   "id": "aa07d124",
   "metadata": {},
   "source": [
    "**Factorial of a number**"
   ]
  },
  {
   "cell_type": "code",
   "execution_count": 12,
   "id": "b32cd8a8",
   "metadata": {},
   "outputs": [
    {
     "name": "stdout",
     "output_type": "stream",
     "text": [
      "Enter the number: 3\n",
      "6\n"
     ]
    }
   ],
   "source": [
    "number = int(input('Enter the number: '))\n",
    "result =1\n",
    "while number>=1:\n",
    "    result = result*number\n",
    "    number-=1\n",
    "print(result)"
   ]
  },
  {
   "cell_type": "code",
   "execution_count": 15,
   "id": "b0081e99",
   "metadata": {},
   "outputs": [
    {
     "name": "stdout",
     "output_type": "stream",
     "text": [
      "Enter the number: -3\n",
      "There is no factorial of a negative number\n"
     ]
    }
   ],
   "source": [
    "number = int(input('Enter the number: '))\n",
    "\n",
    "if number<0:\n",
    "    print('There is no factorial of a negative number')\n",
    "else:\n",
    "    result =1\n",
    "    while number>=1:\n",
    "        result = result*number\n",
    "        number-=1\n",
    "    print(result)"
   ]
  },
  {
   "cell_type": "markdown",
   "id": "694d3508",
   "metadata": {},
   "source": [
    "**Pin Validation**"
   ]
  },
  {
   "cell_type": "code",
   "execution_count": 19,
   "id": "9514dff9",
   "metadata": {},
   "outputs": [
    {
     "name": "stdout",
     "output_type": "stream",
     "text": [
      "Enter you pin: 432\n",
      "Incorrect pin, Attempts remaining:  2\n",
      "Enter you pin: 424\n",
      "Incorrect pin, Attempts remaining:  1\n",
      "Enter you pin: 2222\n",
      "Pin accepted, Access Granted\n"
     ]
    }
   ],
   "source": [
    "correct_pin =2222\n",
    "max_attempts =3\n",
    "attempts = 0\n",
    "\n",
    "while attempts<max_attempts:\n",
    "    pin = int(input('Enter you pin: '))\n",
    "    if pin == correct_pin:\n",
    "        print('Pin accepted, Access Granted')\n",
    "        break\n",
    "    else:\n",
    "        attempts+=1\n",
    "        print('Incorrect pin, Attempts remaining: ',max_attempts-attempts)\n",
    "        \n",
    "if attempts==max_attempts:\n",
    "    print('Max attempts reached, access denied')"
   ]
  },
  {
   "cell_type": "markdown",
   "id": "108110ed",
   "metadata": {},
   "source": [
    "**Account creation with unique account number**"
   ]
  },
  {
   "cell_type": "code",
   "execution_count": 21,
   "id": "a234f8f1",
   "metadata": {},
   "outputs": [
    {
     "name": "stdout",
     "output_type": "stream",
     "text": [
      "Account created sucessfully:  3\n"
     ]
    }
   ],
   "source": [
    "import random\n",
    "existing_account_number = [1,5,7,9]\n",
    "new_account_number =random.randint(1,9)\n",
    "\n",
    "while new_account_number in existing_account_number:\n",
    "    new_account_number = random.randint(1,9)\n",
    "\n",
    "print('Account created sucessfully: ', new_account_number)\n",
    "print"
   ]
  },
  {
   "cell_type": "markdown",
   "id": "4ce58d41",
   "metadata": {},
   "source": [
    "**Money withdrawal with balance validation**"
   ]
  },
  {
   "cell_type": "code",
   "execution_count": 25,
   "id": "f366dd2b",
   "metadata": {},
   "outputs": [
    {
     "name": "stdout",
     "output_type": "stream",
     "text": [
      "Enter the amount to withdraw; 10000\n",
      "Insufficient funds, available balance:  1000\n",
      "Enter the amount to withdraw: 50\n",
      "invalid withdraw amount, minimum withdrawal amount is:  100\n",
      "Enter the amount to withdraw: 300\n",
      "withdrawal successful:  700.0\n"
     ]
    }
   ],
   "source": [
    "account_balance =1000\n",
    "min_balance =100\n",
    "\n",
    "withdrawal_amount = float(input('Enter the amount to withdraw; '))\n",
    "\n",
    "while withdrawal_amount>account_balance or withdrawal_amount<min_balance:\n",
    "    if withdrawal_amount>account_balance:\n",
    "        print('Insufficient funds, available balance: ', account_balance)\n",
    "    else:\n",
    "        print('invalid withdraw amount, minimum withdrawal amount is: ', min_balance)\n",
    "    withdrawal_amount=float(input('Enter the amount to withdraw: '))\n",
    "\n",
    "account_balance -= withdrawal_amount\n",
    "print('withdrawal successful: ', account_balance)"
   ]
  },
  {
   "cell_type": "markdown",
   "id": "c3410958",
   "metadata": {},
   "source": [
    "**Interest Calculation**"
   ]
  },
  {
   "cell_type": "code",
   "execution_count": 29,
   "id": "81c5e88b",
   "metadata": {},
   "outputs": [
    {
     "name": "stdout",
     "output_type": "stream",
     "text": [
      "Enter the amount which you need to invest: 500000\n",
      "Enter the interest rate: .10\n",
      "Enter the duration: 10\n",
      "Final account balance:  1296871.2300500001 after 10  year with the interest if 0.1\n"
     ]
    }
   ],
   "source": [
    "initial_investment = int(input('Enter the amount which you need to invest: '))\n",
    "interest_rate = float(input(\"Enter the interest rate: \"))\n",
    "duration = int(input(\"Enter the duration: \"))\n",
    "final_dur = duration\n",
    "while duration>=1:\n",
    "    interest = initial_investment*interest_rate\n",
    "    initial_investment+=interest\n",
    "    duration-=1\n",
    "    \n",
    "print('Final account balance: ',initial_investment, 'after', final_dur, ' year with the interest if', interest_rate)"
   ]
  },
  {
   "cell_type": "code",
   "execution_count": 30,
   "id": "8e5460f0",
   "metadata": {},
   "outputs": [
    {
     "data": {
      "text/plain": [
       "700.0"
      ]
     },
     "execution_count": 30,
     "metadata": {},
     "output_type": "execute_result"
    }
   ],
   "source": [
    "account_balance"
   ]
  }
 ],
 "metadata": {
  "kernelspec": {
   "display_name": "Python 3 (ipykernel)",
   "language": "python",
   "name": "python3"
  },
  "language_info": {
   "codemirror_mode": {
    "name": "ipython",
    "version": 3
   },
   "file_extension": ".py",
   "mimetype": "text/x-python",
   "name": "python",
   "nbconvert_exporter": "python",
   "pygments_lexer": "ipython3",
   "version": "3.10.9"
  }
 },
 "nbformat": 4,
 "nbformat_minor": 5
}
