{
 "cells": [
  {
   "cell_type": "markdown",
   "id": "82f0dfff",
   "metadata": {},
   "source": [
    "# Slicing and Indexing"
   ]
  },
  {
   "cell_type": "code",
   "execution_count": 36,
   "id": "7ce412be",
   "metadata": {},
   "outputs": [],
   "source": [
    "Company = 'The Scholar'"
   ]
  },
  {
   "cell_type": "code",
   "execution_count": 37,
   "id": "4e31b8e9",
   "metadata": {},
   "outputs": [
    {
     "data": {
      "text/plain": [
       "str"
      ]
     },
     "execution_count": 37,
     "metadata": {},
     "output_type": "execute_result"
    }
   ],
   "source": [
    "type(Company)"
   ]
  },
  {
   "cell_type": "markdown",
   "id": "b8b1c973",
   "metadata": {},
   "source": [
    "**Slicing is happen only with a square bracket**"
   ]
  },
  {
   "cell_type": "code",
   "execution_count": 38,
   "id": "080f0379",
   "metadata": {},
   "outputs": [
    {
     "data": {
      "text/plain": [
       "'S'"
      ]
     },
     "execution_count": 38,
     "metadata": {},
     "output_type": "execute_result"
    }
   ],
   "source": [
    "Company[4]"
   ]
  },
  {
   "cell_type": "markdown",
   "id": "d467d960",
   "metadata": {},
   "source": [
    "**when you are calling a function it will be using () Normal Brackets**"
   ]
  },
  {
   "cell_type": "markdown",
   "id": "40101906",
   "metadata": {},
   "source": [
    "By default the slicing happens from left to right\n",
    "\n",
    "Company[7:1:1]- The last +1 is the direction, if it is a positive value it will be left to right abd if it will be negative value, it will be right to left"
   ]
  },
  {
   "cell_type": "code",
   "execution_count": 39,
   "id": "90ef2209",
   "metadata": {},
   "outputs": [
    {
     "data": {
      "text/plain": [
       "'The Scholar'"
      ]
     },
     "execution_count": 39,
     "metadata": {},
     "output_type": "execute_result"
    }
   ],
   "source": [
    "Company"
   ]
  },
  {
   "cell_type": "code",
   "execution_count": 40,
   "id": "e4781a11",
   "metadata": {},
   "outputs": [
    {
     "data": {
      "text/plain": [
       "'Sch'"
      ]
     },
     "execution_count": 40,
     "metadata": {},
     "output_type": "execute_result"
    }
   ],
   "source": [
    "Company[4:7]"
   ]
  },
  {
   "cell_type": "code",
   "execution_count": 7,
   "id": "e9030785",
   "metadata": {},
   "outputs": [
    {
     "data": {
      "text/plain": [
       "'hola'"
      ]
     },
     "execution_count": 7,
     "metadata": {},
     "output_type": "execute_result"
    }
   ],
   "source": [
    "Company[6:10]"
   ]
  },
  {
   "cell_type": "code",
   "execution_count": 8,
   "id": "f4a44607",
   "metadata": {},
   "outputs": [
    {
     "data": {
      "text/plain": [
       "'e Sch'"
      ]
     },
     "execution_count": 8,
     "metadata": {},
     "output_type": "execute_result"
    }
   ],
   "source": [
    "Company[2:7]"
   ]
  },
  {
   "cell_type": "code",
   "execution_count": 9,
   "id": "afadecd1",
   "metadata": {},
   "outputs": [
    {
     "data": {
      "text/plain": [
       "'The Schol'"
      ]
     },
     "execution_count": 9,
     "metadata": {},
     "output_type": "execute_result"
    }
   ],
   "source": [
    "Company[0:9]"
   ]
  },
  {
   "cell_type": "code",
   "execution_count": 10,
   "id": "47eec406",
   "metadata": {},
   "outputs": [
    {
     "data": {
      "text/plain": [
       "''"
      ]
     },
     "execution_count": 10,
     "metadata": {},
     "output_type": "execute_result"
    }
   ],
   "source": [
    "Company[7:1]"
   ]
  },
  {
   "cell_type": "code",
   "execution_count": 12,
   "id": "e3f7c21d",
   "metadata": {},
   "outputs": [
    {
     "data": {
      "text/plain": [
       "''"
      ]
     },
     "execution_count": 12,
     "metadata": {},
     "output_type": "execute_result"
    }
   ],
   "source": [
    "Company[10:5]"
   ]
  },
  {
   "cell_type": "code",
   "execution_count": 13,
   "id": "ec171ae1",
   "metadata": {},
   "outputs": [
    {
     "data": {
      "text/plain": [
       "'chola'"
      ]
     },
     "execution_count": 13,
     "metadata": {},
     "output_type": "execute_result"
    }
   ],
   "source": [
    "Company[5:10]"
   ]
  },
  {
   "cell_type": "code",
   "execution_count": 18,
   "id": "b3492f77",
   "metadata": {},
   "outputs": [
    {
     "data": {
      "text/plain": [
       "''"
      ]
     },
     "execution_count": 18,
     "metadata": {},
     "output_type": "execute_result"
    }
   ],
   "source": [
    "Company[7:1:]"
   ]
  },
  {
   "cell_type": "code",
   "execution_count": 19,
   "id": "460d7ade",
   "metadata": {},
   "outputs": [
    {
     "data": {
      "text/plain": [
       "' Schol'"
      ]
     },
     "execution_count": 19,
     "metadata": {},
     "output_type": "execute_result"
    }
   ],
   "source": [
    "Company[-8:-2]"
   ]
  },
  {
   "cell_type": "code",
   "execution_count": 20,
   "id": "6b8715b3",
   "metadata": {},
   "outputs": [
    {
     "data": {
      "text/plain": [
       "' Sch'"
      ]
     },
     "execution_count": 20,
     "metadata": {},
     "output_type": "execute_result"
    }
   ],
   "source": [
    "Company[-8:7]"
   ]
  },
  {
   "cell_type": "code",
   "execution_count": 21,
   "id": "dcd8ee70",
   "metadata": {},
   "outputs": [
    {
     "data": {
      "text/plain": [
       "'e Schol'"
      ]
     },
     "execution_count": 21,
     "metadata": {},
     "output_type": "execute_result"
    }
   ],
   "source": [
    "Company[2:-2]"
   ]
  },
  {
   "cell_type": "code",
   "execution_count": 22,
   "id": "091dd0aa",
   "metadata": {},
   "outputs": [
    {
     "data": {
      "text/plain": [
       "'ohcS'"
      ]
     },
     "execution_count": 22,
     "metadata": {},
     "output_type": "execute_result"
    }
   ],
   "source": [
    "Company[7:-8:-1]"
   ]
  },
  {
   "cell_type": "code",
   "execution_count": 25,
   "id": "96ed4c37",
   "metadata": {},
   "outputs": [
    {
     "data": {
      "text/plain": [
       "'lohcS '"
      ]
     },
     "execution_count": 25,
     "metadata": {},
     "output_type": "execute_result"
    }
   ],
   "source": [
    "Company[-3:-9:-1]"
   ]
  },
  {
   "cell_type": "code",
   "execution_count": 26,
   "id": "21aa0077",
   "metadata": {},
   "outputs": [
    {
     "data": {
      "text/plain": [
       "'h'"
      ]
     },
     "execution_count": 26,
     "metadata": {},
     "output_type": "execute_result"
    }
   ],
   "source": [
    "Company[1:-11:-1]"
   ]
  },
  {
   "cell_type": "markdown",
   "id": "2334c01d",
   "metadata": {},
   "source": [
    "In this example there is no starting point so it will start from start and end till the end "
   ]
  },
  {
   "cell_type": "code",
   "execution_count": 42,
   "id": "1180cb54",
   "metadata": {},
   "outputs": [
    {
     "data": {
      "text/plain": [
       "'ralohcS ehT'"
      ]
     },
     "execution_count": 42,
     "metadata": {},
     "output_type": "execute_result"
    }
   ],
   "source": [
    "Company[::-1]"
   ]
  },
  {
   "cell_type": "code",
   "execution_count": 29,
   "id": "b95ac44b",
   "metadata": {},
   "outputs": [
    {
     "data": {
      "text/plain": [
       "'raloh'"
      ]
     },
     "execution_count": 29,
     "metadata": {},
     "output_type": "execute_result"
    }
   ],
   "source": [
    "Company[:5:-1]"
   ]
  },
  {
   "cell_type": "code",
   "execution_count": 30,
   "id": "5b749c44",
   "metadata": {},
   "outputs": [
    {
     "data": {
      "text/plain": [
       "'cS ehT'"
      ]
     },
     "execution_count": 30,
     "metadata": {},
     "output_type": "execute_result"
    }
   ],
   "source": [
    "Company[5::-1]"
   ]
  },
  {
   "cell_type": "code",
   "execution_count": 33,
   "id": "e85e7f93",
   "metadata": {},
   "outputs": [
    {
     "data": {
      "text/plain": [
       "'holar'"
      ]
     },
     "execution_count": 33,
     "metadata": {},
     "output_type": "execute_result"
    }
   ],
   "source": [
    "Company[-5::]"
   ]
  },
  {
   "cell_type": "code",
   "execution_count": 41,
   "id": "04b8adb4",
   "metadata": {},
   "outputs": [
    {
     "data": {
      "text/plain": [
       "'h'"
      ]
     },
     "execution_count": 41,
     "metadata": {},
     "output_type": "execute_result"
    }
   ],
   "source": [
    "Company[-5:-7:-2]"
   ]
  },
  {
   "cell_type": "markdown",
   "id": "f49e94c1",
   "metadata": {},
   "source": [
    "# Data Structure in python\n",
    "\n",
    "**what are the in-build data structures are there on python**\n",
    "\n",
    "    1) Lists\n",
    "        \n",
    "        a) List are always created using [] brackets\n",
    "        b) List can have heterogeneous data i.e. we can dirrerent datatype \n",
    "        c) Duplicates are entertained \n",
    "        d) List are growable in nature - you can add more value in the list\n",
    "        e) List are mutable in nature - we can add the value, update, delete from the list without changing the memory location \n",
    "    \n",
    "    2) Tuples\n",
    "        a) tuples are always created using the () brackets \n",
    "        b) tuples can have heterogeneous data i.e. we can dirrerent datatype\n",
    "        c) Duplicates are entertained \n",
    "        d) Tuples are not growable in nature - you cannot add, remove, update anything in the tuples\n",
    "        e) Tuples are immutable in nature- you cannot change the value\n",
    "        \n",
    "        \n",
    "    3)sets \n",
    "    \n",
    "    4) Dictionaries"
   ]
  },
  {
   "cell_type": "code",
   "execution_count": 47,
   "id": "1b42337c",
   "metadata": {},
   "outputs": [],
   "source": [
    "list1 = ['A', 10, 5.5,True, 'A']"
   ]
  },
  {
   "cell_type": "code",
   "execution_count": 46,
   "id": "31ad5c82",
   "metadata": {},
   "outputs": [
    {
     "data": {
      "text/plain": [
       "list"
      ]
     },
     "execution_count": 46,
     "metadata": {},
     "output_type": "execute_result"
    }
   ],
   "source": [
    "type(list1)"
   ]
  },
  {
   "cell_type": "code",
   "execution_count": 48,
   "id": "15c4df9d",
   "metadata": {},
   "outputs": [
    {
     "data": {
      "text/plain": [
       "['A', 10, 5.5, True, 'A']"
      ]
     },
     "execution_count": 48,
     "metadata": {},
     "output_type": "execute_result"
    }
   ],
   "source": [
    "list1"
   ]
  },
  {
   "cell_type": "code",
   "execution_count": 50,
   "id": "b451650b",
   "metadata": {},
   "outputs": [
    {
     "data": {
      "text/plain": [
       "[10, 5.5, True]"
      ]
     },
     "execution_count": 50,
     "metadata": {},
     "output_type": "execute_result"
    }
   ],
   "source": [
    "list1[1:4]"
   ]
  },
  {
   "cell_type": "code",
   "execution_count": 51,
   "id": "398103bf",
   "metadata": {},
   "outputs": [
    {
     "data": {
      "text/plain": [
       "[]"
      ]
     },
     "execution_count": 51,
     "metadata": {},
     "output_type": "execute_result"
    }
   ],
   "source": [
    "list1[1:4:-1]"
   ]
  },
  {
   "cell_type": "code",
   "execution_count": 54,
   "id": "5bfa5617",
   "metadata": {},
   "outputs": [
    {
     "data": {
      "text/plain": [
       "int"
      ]
     },
     "execution_count": 54,
     "metadata": {},
     "output_type": "execute_result"
    }
   ],
   "source": [
    "type(list1[1])"
   ]
  },
  {
   "cell_type": "code",
   "execution_count": 78,
   "id": "35bc81ea",
   "metadata": {},
   "outputs": [],
   "source": [
    "ages = [21,23,33,22,22,33,44,22,44,55,44,22,11,23]"
   ]
  },
  {
   "cell_type": "markdown",
   "id": "8fe1c40b",
   "metadata": {},
   "source": [
    "len(ages)"
   ]
  },
  {
   "cell_type": "code",
   "execution_count": 58,
   "id": "b6fda3ae",
   "metadata": {},
   "outputs": [
    {
     "data": {
      "text/plain": [
       "419"
      ]
     },
     "execution_count": 58,
     "metadata": {},
     "output_type": "execute_result"
    }
   ],
   "source": [
    "sum(ages)"
   ]
  },
  {
   "cell_type": "code",
   "execution_count": 59,
   "id": "6841b3d4",
   "metadata": {},
   "outputs": [
    {
     "data": {
      "text/plain": [
       "55"
      ]
     },
     "execution_count": 59,
     "metadata": {},
     "output_type": "execute_result"
    }
   ],
   "source": [
    "max(ages)"
   ]
  },
  {
   "cell_type": "code",
   "execution_count": 61,
   "id": "dc0bdb00",
   "metadata": {},
   "outputs": [
    {
     "data": {
      "text/plain": [
       "11"
      ]
     },
     "execution_count": 61,
     "metadata": {},
     "output_type": "execute_result"
    }
   ],
   "source": [
    "min(ages)"
   ]
  },
  {
   "cell_type": "code",
   "execution_count": 63,
   "id": "aa37920d",
   "metadata": {},
   "outputs": [
    {
     "data": {
      "text/plain": [
       "29.928571428571427"
      ]
     },
     "execution_count": 63,
     "metadata": {},
     "output_type": "execute_result"
    }
   ],
   "source": [
    "sum(ages)/len(ages)"
   ]
  },
  {
   "cell_type": "markdown",
   "id": "d4b83585",
   "metadata": {},
   "source": [
    "**Funcations of lists**"
   ]
  },
  {
   "cell_type": "markdown",
   "id": "e464843a",
   "metadata": {},
   "source": [
    "append() - It appends a value inside the list at the end, append can take only on argument"
   ]
  },
  {
   "cell_type": "code",
   "execution_count": 66,
   "id": "37f85f38",
   "metadata": {},
   "outputs": [],
   "source": [
    "ages.append(100)"
   ]
  },
  {
   "cell_type": "code",
   "execution_count": 65,
   "id": "b0373362",
   "metadata": {},
   "outputs": [
    {
     "data": {
      "text/plain": [
       "[21, 23, 33, 22, 22, 33, 44, 22, 44, 55, 44, 22, 11, 23, 100]"
      ]
     },
     "execution_count": 65,
     "metadata": {},
     "output_type": "execute_result"
    }
   ],
   "source": [
    "ages"
   ]
  },
  {
   "cell_type": "markdown",
   "id": "27e662b0",
   "metadata": {},
   "source": [
    "In the below example append considers below list[100,200] as a single arguement, it inserted the value inside the list as a list, list of list"
   ]
  },
  {
   "cell_type": "code",
   "execution_count": 67,
   "id": "25a5c292",
   "metadata": {},
   "outputs": [],
   "source": [
    "ages.append([100,200])"
   ]
  },
  {
   "cell_type": "code",
   "execution_count": 69,
   "id": "5b5e8858",
   "metadata": {},
   "outputs": [
    {
     "data": {
      "text/plain": [
       "17"
      ]
     },
     "execution_count": 69,
     "metadata": {},
     "output_type": "execute_result"
    }
   ],
   "source": [
    "len(ages)"
   ]
  },
  {
   "cell_type": "code",
   "execution_count": 70,
   "id": "5a43836c",
   "metadata": {},
   "outputs": [
    {
     "data": {
      "text/plain": [
       "[100, 200]"
      ]
     },
     "execution_count": 70,
     "metadata": {},
     "output_type": "execute_result"
    }
   ],
   "source": [
    "ages[16]"
   ]
  },
  {
   "cell_type": "code",
   "execution_count": 71,
   "id": "5ecbbf98",
   "metadata": {},
   "outputs": [
    {
     "data": {
      "text/plain": [
       "200"
      ]
     },
     "execution_count": 71,
     "metadata": {},
     "output_type": "execute_result"
    }
   ],
   "source": [
    "ages[16][1]"
   ]
  },
  {
   "cell_type": "code",
   "execution_count": 72,
   "id": "a90d1618",
   "metadata": {},
   "outputs": [],
   "source": [
    "del ages[-1]"
   ]
  },
  {
   "cell_type": "code",
   "execution_count": 74,
   "id": "d39e51ae",
   "metadata": {},
   "outputs": [
    {
     "data": {
      "text/plain": [
       "[21, 23, 33, 22, 22, 33, 44, 22, 44, 55, 44, 22, 11, 23, 100, 100]"
      ]
     },
     "execution_count": 74,
     "metadata": {},
     "output_type": "execute_result"
    }
   ],
   "source": [
    "ages"
   ]
  },
  {
   "cell_type": "markdown",
   "id": "c74f9a06",
   "metadata": {},
   "source": [
    "clear()-It will clear all the list elements and keep the list as an empty list"
   ]
  },
  {
   "cell_type": "code",
   "execution_count": 77,
   "id": "370d5182",
   "metadata": {},
   "outputs": [],
   "source": [
    "ages.clear()"
   ]
  },
  {
   "cell_type": "code",
   "execution_count": 85,
   "id": "5653811f",
   "metadata": {},
   "outputs": [
    {
     "data": {
      "text/plain": [
       "1959904976704"
      ]
     },
     "execution_count": 85,
     "metadata": {},
     "output_type": "execute_result"
    }
   ],
   "source": [
    "id(ages)"
   ]
  },
  {
   "cell_type": "markdown",
   "id": "6688020c",
   "metadata": {},
   "source": [
    "Copy() - copy commad create the actual backup of the list, ages is in on memory location and ages1 is in another memory location"
   ]
  },
  {
   "cell_type": "code",
   "execution_count": 84,
   "id": "95248742",
   "metadata": {},
   "outputs": [],
   "source": [
    "ages1 = ages.copy()"
   ]
  },
  {
   "cell_type": "code",
   "execution_count": 86,
   "id": "9b6369fc",
   "metadata": {},
   "outputs": [
    {
     "data": {
      "text/plain": [
       "1959904870144"
      ]
     },
     "execution_count": 86,
     "metadata": {},
     "output_type": "execute_result"
    }
   ],
   "source": [
    "id(ages1)"
   ]
  },
  {
   "cell_type": "code",
   "execution_count": 82,
   "id": "732b0c9e",
   "metadata": {},
   "outputs": [],
   "source": [
    "ages2 = ages"
   ]
  },
  {
   "cell_type": "code",
   "execution_count": 87,
   "id": "7ba9b9cb",
   "metadata": {},
   "outputs": [
    {
     "data": {
      "text/plain": [
       "1959904976704"
      ]
     },
     "execution_count": 87,
     "metadata": {},
     "output_type": "execute_result"
    }
   ],
   "source": [
    "id(ages2)"
   ]
  },
  {
   "cell_type": "code",
   "execution_count": 88,
   "id": "56092ebb",
   "metadata": {},
   "outputs": [],
   "source": [
    "del ages2"
   ]
  },
  {
   "cell_type": "code",
   "execution_count": 89,
   "id": "a1ee8b5a",
   "metadata": {},
   "outputs": [
    {
     "data": {
      "text/plain": [
       "[21, 23, 33, 22, 22, 33, 44, 22, 44, 55, 44, 22, 11, 23]"
      ]
     },
     "execution_count": 89,
     "metadata": {},
     "output_type": "execute_result"
    }
   ],
   "source": [
    "ages"
   ]
  },
  {
   "cell_type": "code",
   "execution_count": 90,
   "id": "daf8780c",
   "metadata": {},
   "outputs": [],
   "source": [
    "del ages1"
   ]
  },
  {
   "cell_type": "markdown",
   "id": "af419eaa",
   "metadata": {},
   "source": [
    "count()-Count the number od value in the list"
   ]
  },
  {
   "cell_type": "code",
   "execution_count": 92,
   "id": "f71b0eab",
   "metadata": {},
   "outputs": [
    {
     "data": {
      "text/plain": [
       "4"
      ]
     },
     "execution_count": 92,
     "metadata": {},
     "output_type": "execute_result"
    }
   ],
   "source": [
    "ages.count(22)"
   ]
  },
  {
   "cell_type": "markdown",
   "id": "f59b3d92",
   "metadata": {},
   "source": [
    "extend()-it will add multiple values in the list as an individual elements, we have to pass a list of values"
   ]
  },
  {
   "cell_type": "code",
   "execution_count": 93,
   "id": "77c0ef08",
   "metadata": {},
   "outputs": [],
   "source": [
    "ages.extend([10,20])"
   ]
  },
  {
   "cell_type": "code",
   "execution_count": 94,
   "id": "46add817",
   "metadata": {},
   "outputs": [
    {
     "data": {
      "text/plain": [
       "[21, 23, 33, 22, 22, 33, 44, 22, 44, 55, 44, 22, 11, 23, 10, 20]"
      ]
     },
     "execution_count": 94,
     "metadata": {},
     "output_type": "execute_result"
    }
   ],
   "source": [
    "ages"
   ]
  },
  {
   "cell_type": "markdown",
   "id": "73667f6a",
   "metadata": {},
   "source": [
    "index()- it will always gives the first index of the value"
   ]
  },
  {
   "cell_type": "code",
   "execution_count": 95,
   "id": "9967a359",
   "metadata": {},
   "outputs": [
    {
     "data": {
      "text/plain": [
       "3"
      ]
     },
     "execution_count": 95,
     "metadata": {},
     "output_type": "execute_result"
    }
   ],
   "source": [
    "ages.index(22)"
   ]
  },
  {
   "cell_type": "markdown",
   "id": "73a687b6",
   "metadata": {},
   "source": [
    "Insert()- it will insert a value at a particular index position"
   ]
  },
  {
   "cell_type": "markdown",
   "id": "0624c7bb",
   "metadata": {},
   "source": [
    "pop()-it takes one or zero arguements. if we are possing any arguement the it will remove the last value, however, if we pass thee index of any specific value it will be indexed value"
   ]
  },
  {
   "cell_type": "code",
   "execution_count": 98,
   "id": "ca4f218d",
   "metadata": {},
   "outputs": [],
   "source": [
    "ages.insert(7,100)"
   ]
  },
  {
   "cell_type": "code",
   "execution_count": 97,
   "id": "d77bbc38",
   "metadata": {},
   "outputs": [
    {
     "data": {
      "text/plain": [
       "[21, 23, 33, 22, 22, 33, 44, 100, 22, 44, 55, 44, 22, 11, 23, 10, 20]"
      ]
     },
     "execution_count": 97,
     "metadata": {},
     "output_type": "execute_result"
    }
   ],
   "source": [
    "ages"
   ]
  },
  {
   "cell_type": "code",
   "execution_count": 102,
   "id": "ab4ae267",
   "metadata": {},
   "outputs": [
    {
     "data": {
      "text/plain": [
       "44"
      ]
     },
     "execution_count": 102,
     "metadata": {},
     "output_type": "execute_result"
    }
   ],
   "source": [
    "ages.pop(6)"
   ]
  },
  {
   "cell_type": "code",
   "execution_count": 103,
   "id": "3f70deee",
   "metadata": {},
   "outputs": [
    {
     "data": {
      "text/plain": [
       "[21, 23, 33, 22, 22, 33, 100, 100, 22, 44, 55, 44, 22, 11, 23, 10]"
      ]
     },
     "execution_count": 103,
     "metadata": {},
     "output_type": "execute_result"
    }
   ],
   "source": [
    "ages"
   ]
  },
  {
   "cell_type": "markdown",
   "id": "63a3e762",
   "metadata": {},
   "source": [
    "Remove()- It takes one arguement and that is the value which is present in the list. if there are duplicates it will remove the first instance of the duplicates"
   ]
  },
  {
   "cell_type": "code",
   "execution_count": 106,
   "id": "1c7c2301",
   "metadata": {},
   "outputs": [],
   "source": [
    "ages.remove(100)"
   ]
  },
  {
   "cell_type": "code",
   "execution_count": 107,
   "id": "78cae6a1",
   "metadata": {},
   "outputs": [
    {
     "data": {
      "text/plain": [
       "[21, 23, 33, 22, 22, 33, 22, 44, 55, 44, 22, 11, 23, 10]"
      ]
     },
     "execution_count": 107,
     "metadata": {},
     "output_type": "execute_result"
    }
   ],
   "source": [
    "ages"
   ]
  },
  {
   "cell_type": "markdown",
   "id": "37f98f9b",
   "metadata": {},
   "source": [
    "Reverse()- it will flip the list"
   ]
  },
  {
   "cell_type": "code",
   "execution_count": 108,
   "id": "f1d592f2",
   "metadata": {},
   "outputs": [],
   "source": [
    "ages.reverse()"
   ]
  },
  {
   "cell_type": "code",
   "execution_count": 109,
   "id": "7718116e",
   "metadata": {},
   "outputs": [
    {
     "data": {
      "text/plain": [
       "[10, 23, 11, 22, 44, 55, 44, 22, 33, 22, 22, 33, 23, 21]"
      ]
     },
     "execution_count": 109,
     "metadata": {},
     "output_type": "execute_result"
    }
   ],
   "source": [
    "ages"
   ]
  },
  {
   "cell_type": "markdown",
   "id": "4decbc4b",
   "metadata": {},
   "source": [
    "sort()- by defaut the shorting is an ascending order, if we want to do the decending order then we can pass the reverse argument inside the sort function as true  "
   ]
  },
  {
   "cell_type": "code",
   "execution_count": 110,
   "id": "f48251f1",
   "metadata": {},
   "outputs": [],
   "source": [
    "ages.sort()"
   ]
  },
  {
   "cell_type": "code",
   "execution_count": 112,
   "id": "4089e552",
   "metadata": {},
   "outputs": [],
   "source": [
    "ages.sort(reverse=True)"
   ]
  },
  {
   "cell_type": "code",
   "execution_count": 113,
   "id": "afd487ba",
   "metadata": {},
   "outputs": [
    {
     "data": {
      "text/plain": [
       "[55, 44, 44, 33, 33, 23, 23, 22, 22, 22, 22, 21, 11, 10]"
      ]
     },
     "execution_count": 113,
     "metadata": {},
     "output_type": "execute_result"
    }
   ],
   "source": [
    "ages"
   ]
  },
  {
   "cell_type": "markdown",
   "id": "94afb6e2",
   "metadata": {},
   "source": [
    "**tuple**"
   ]
  },
  {
   "cell_type": "code",
   "execution_count": 116,
   "id": "7cdfac47",
   "metadata": {},
   "outputs": [],
   "source": [
    "Salary = (23,43,22,33,22,11,22,44,33)"
   ]
  },
  {
   "cell_type": "code",
   "execution_count": 118,
   "id": "3800597f",
   "metadata": {},
   "outputs": [
    {
     "data": {
      "text/plain": [
       "tuple"
      ]
     },
     "execution_count": 118,
     "metadata": {},
     "output_type": "execute_result"
    }
   ],
   "source": [
    "type(Salary)"
   ]
  },
  {
   "cell_type": "code",
   "execution_count": 119,
   "id": "4aa9a3ea",
   "metadata": {},
   "outputs": [],
   "source": [
    "tuple1 = ('A',10,10.5,True)"
   ]
  },
  {
   "cell_type": "code",
   "execution_count": 120,
   "id": "5caf2894",
   "metadata": {},
   "outputs": [
    {
     "ename": "TypeError",
     "evalue": "'tuple' object does not support item assignment",
     "output_type": "error",
     "traceback": [
      "\u001b[1;31m---------------------------------------------------------------------------\u001b[0m",
      "\u001b[1;31mTypeError\u001b[0m                                 Traceback (most recent call last)",
      "Cell \u001b[1;32mIn[120], line 1\u001b[0m\n\u001b[1;32m----> 1\u001b[0m tuple1[\u001b[38;5;241m0\u001b[39m] \u001b[38;5;241m=\u001b[39m\u001b[38;5;241m23\u001b[39m\n",
      "\u001b[1;31mTypeError\u001b[0m: 'tuple' object does not support item assignment"
     ]
    }
   ],
   "source": [
    "tuple1[0] =23"
   ]
  },
  {
   "cell_type": "code",
   "execution_count": 121,
   "id": "c1cec6fb",
   "metadata": {},
   "outputs": [
    {
     "data": {
      "text/plain": [
       "3"
      ]
     },
     "execution_count": 121,
     "metadata": {},
     "output_type": "execute_result"
    }
   ],
   "source": [
    "Salary.count(22)"
   ]
  },
  {
   "cell_type": "code",
   "execution_count": 122,
   "id": "ff40d4c3",
   "metadata": {},
   "outputs": [
    {
     "data": {
      "text/plain": [
       "2"
      ]
     },
     "execution_count": 122,
     "metadata": {},
     "output_type": "execute_result"
    }
   ],
   "source": [
    "Salary.index(22)"
   ]
  },
  {
   "cell_type": "markdown",
   "id": "fd2d7fc6",
   "metadata": {},
   "source": [
    "lists- we can use where we can change the values frequently\n",
    "\n",
    "Tuples - we can use where we cannot change the value frequently or never "
   ]
  },
  {
   "cell_type": "markdown",
   "id": "b9b251a6",
   "metadata": {},
   "source": [
    "**How we can change the value in the tuples**\n",
    "\n",
    "    1) convert the tuple to list\n",
    "    2) As lists are mutable lets change the value in the converted list\n",
    "    3) we will convert the list back to the tuple\n",
    "    \n",
    "    memeory location will change - It will overwrite the previous tuple hence, it will change the memory location."
   ]
  },
  {
   "cell_type": "code",
   "execution_count": 130,
   "id": "6adf4f10",
   "metadata": {},
   "outputs": [
    {
     "data": {
      "text/plain": [
       "1959907598144"
      ]
     },
     "execution_count": 130,
     "metadata": {},
     "output_type": "execute_result"
    }
   ],
   "source": [
    "Salary\n",
    "id(salary)"
   ]
  },
  {
   "cell_type": "code",
   "execution_count": 124,
   "id": "0e819ce3",
   "metadata": {},
   "outputs": [],
   "source": [
    "a = list(Salary)"
   ]
  },
  {
   "cell_type": "code",
   "execution_count": 125,
   "id": "b2a73ac9",
   "metadata": {},
   "outputs": [],
   "source": [
    "a[0]=22"
   ]
  },
  {
   "cell_type": "code",
   "execution_count": 127,
   "id": "c6133a48",
   "metadata": {},
   "outputs": [],
   "source": [
    "Salary = tuple(a)"
   ]
  },
  {
   "cell_type": "code",
   "execution_count": 128,
   "id": "a407ad34",
   "metadata": {},
   "outputs": [
    {
     "data": {
      "text/plain": [
       "1959907597248"
      ]
     },
     "execution_count": 128,
     "metadata": {},
     "output_type": "execute_result"
    }
   ],
   "source": [
    "id(Salary)"
   ]
  },
  {
   "cell_type": "code",
   "execution_count": null,
   "id": "48169cc6",
   "metadata": {},
   "outputs": [],
   "source": []
  }
 ],
 "metadata": {
  "kernelspec": {
   "display_name": "Python 3 (ipykernel)",
   "language": "python",
   "name": "python3"
  },
  "language_info": {
   "codemirror_mode": {
    "name": "ipython",
    "version": 3
   },
   "file_extension": ".py",
   "mimetype": "text/x-python",
   "name": "python",
   "nbconvert_exporter": "python",
   "pygments_lexer": "ipython3",
   "version": "3.10.9"
  }
 },
 "nbformat": 4,
 "nbformat_minor": 5
}
