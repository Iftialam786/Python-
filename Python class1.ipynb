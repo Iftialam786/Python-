{
 "cells": [
  {
   "cell_type": "markdown",
   "id": "21b89a90",
   "metadata": {},
   "source": [
    "# Python - An Introduction"
   ]
  },
  {
   "cell_type": "markdown",
   "id": "c4903ec3",
   "metadata": {},
   "source": [
    "**Python - An open source programming language**\n",
    "\n",
    "Multi purpose programming language\n",
    "\n",
    "1) Desktop Application \n",
    "2) Web application (Django and Flask)\n",
    "3) Data Application\n",
    "4) Network Application\n",
    "5) Data Analytics or Data Science \n",
    "\ta) Machine Learning \n",
    "\tb) Artificial Intelligence or Deep Learning\n",
    "6) IoT Application\n",
    "7) Automation \n",
    "8) Integrate python with various other programming languages\n",
    "**Challenges**\n",
    "\n",
    "1) Slow programming language\n",
    "2) Mobile application\n",
    "It is very easy to understand, its like an english language\n",
    "\n",
    "**3 ways to install Python**\n",
    "\n",
    "a) Python.org - Packages like Numpy, Pandas etc will not come along, you have to explicitly install these packages. https://www.python.org/\n",
    "b) Anaconda.com (Preferred choice) - Numpy, Pandas etc come along https://www.anaconda.com/\n",
    "c) Google colab - Python on cloud - Numpy, Pandas etc come along https://colab.research.google.com/\n",
    "Once you install Python from anaconda you will get Anaconda prompt which is same as command prompt and anaconda navigator\n",
    "\n",
    "We normally don't use prompt alot, but we can check what all packages are there in Python from (pip - Package management system) pip list command\n",
    "\n",
    "pip install packagename For ex: pip install numpy\n",
    "\n",
    "pip uninstall packagename For ex: pip uninstall numpy\n",
    "\n",
    "conda install packagename conda uninstall packagename\n",
    "\n",
    "Anaconda Navigator - Gives us all the IDE's (Integrated Development Environment, MySQL Workbench where we code)\n",
    "\n",
    "a) Jupyter - Popular amongst all the Data Analysts and Data Scientist\n",
    "b) Pycharm\n",
    "c) Visual code \n",
    "d) Idle \n",
    "e) Atom \n",
    "f) Sublime text \n",
    "g) Spyder\n",
    "\n",
    "Black Screen - Kernel which helps us to communicate between Python and Windows\n",
    "\n",
    "Jupyter - Julia, Python, R\n",
    "\n",
    "To save the file we can download as either .ipynb or .py\n",
    "\n"
   ]
  },
  {
   "cell_type": "markdown",
   "id": "d930f24b",
   "metadata": {},
   "source": [
    "**Generate 6 digit OTP number 10 times**"
   ]
  },
  {
   "cell_type": "code",
   "execution_count": 5,
   "id": "2fe9d5a7",
   "metadata": {},
   "outputs": [
    {
     "name": "stdout",
     "output_type": "stream",
     "text": [
      "0 1 1 2 7 3\n",
      "4 6 1 8 3 3\n"
     ]
    }
   ],
   "source": [
    "from random import *\n",
    "for i in range(0,2):\n",
    "    print(randint(0,9),randint(0,9),randint(0,9),randint(0,9),randint(0,9),randint(0,9))"
   ]
  },
  {
   "cell_type": "markdown",
   "id": "73c383ab",
   "metadata": {},
   "source": [
    "**Version of Python**\n",
    "\n",
    "1) Python 1.0 - 1994\n",
    "2) Python 2.0 - 2000\n",
    "3) Python 3.0 - 2008\n",
    "4) Python 3.6.3 - 2016\n",
    "5) Python 3.8.2 - 2020\n",
    "6) Python 3.9 - 2020\n",
    "7) Python 3.11.2\n",
    "\n",
    "Backward and forward compatibilty is not there\n",
    "\n",
    "Functional Programming Language - In the C programming language it is well implemented\n",
    "Object Oriented Programming Language - In the C++ programming language it is well implemented\n",
    "Scripting Language - Perl and Shell scripting\n",
    "Modular Programming - Modula 3 \n",
    "Syntax of Python - C programming and ABC programming\n",
    "\n",
    "**Variables or Identifiers**\n",
    "\n",
    "1) You can take alphabets, Python is a case sensitive programming language\n",
    "    a) We can place alphabets anywhere\n",
    "\n",
    "2) We can only use underscore _\n",
    "    a) We can place underscores anywhere in the variable name _cust, cust_, cu_st\n",
    "\n",
    "3) We can use numbers as well\n",
    "    a) We cannot start the variable name with numbers **123cust - Its wrong**, cust123, cu123st\n",
    "\n",
    "4) There are 36 python keywords which you cannot use as identifiers because it has some meaning in Python, we can get those 36 keywords using keyword module.\n",
    "\n",
    "\n",
    "Press tab to get the values that is known as intellisense Python is a dynamically typed programming language\n",
    "\n",
    "If you are passing a values with quotes '', \"\", it will consider it as a string datatype\n",
    "\n",
    "1) String \n",
    "2) Integer\n",
    "3) Float\n",
    "4) Boolean"
   ]
  },
  {
   "cell_type": "code",
   "execution_count": 24,
   "id": "fe9c08e8",
   "metadata": {},
   "outputs": [
    {
     "data": {
      "text/plain": [
       "['False',\n",
       " 'None',\n",
       " 'True',\n",
       " 'and',\n",
       " 'as',\n",
       " 'assert',\n",
       " 'async',\n",
       " 'await',\n",
       " 'break',\n",
       " 'class',\n",
       " 'continue',\n",
       " 'def',\n",
       " 'del',\n",
       " 'elif',\n",
       " 'else',\n",
       " 'except',\n",
       " 'finally',\n",
       " 'for',\n",
       " 'from',\n",
       " 'global',\n",
       " 'if',\n",
       " 'import',\n",
       " 'in',\n",
       " 'is',\n",
       " 'lambda',\n",
       " 'nonlocal',\n",
       " 'not',\n",
       " 'or',\n",
       " 'pass',\n",
       " 'raise',\n",
       " 'return',\n",
       " 'try',\n",
       " 'while',\n",
       " 'with',\n",
       " 'yield']"
      ]
     },
     "execution_count": 24,
     "metadata": {},
     "output_type": "execute_result"
    }
   ],
   "source": [
    "import keyword\n",
    "keyword.kwlist"
   ]
  },
  {
   "cell_type": "code",
   "execution_count": 23,
   "id": "1a8c519a",
   "metadata": {},
   "outputs": [],
   "source": [
    "ins_name = 'Rahul'"
   ]
  },
  {
   "cell_type": "code",
   "execution_count": 8,
   "id": "2c7511ba",
   "metadata": {},
   "outputs": [
    {
     "data": {
      "text/plain": [
       "str"
      ]
     },
     "execution_count": 8,
     "metadata": {},
     "output_type": "execute_result"
    }
   ],
   "source": [
    "type(ins_name)"
   ]
  },
  {
   "cell_type": "code",
   "execution_count": 9,
   "id": "bdb0d1a1",
   "metadata": {},
   "outputs": [],
   "source": [
    "Sales = 10.5"
   ]
  },
  {
   "cell_type": "code",
   "execution_count": 14,
   "id": "28da80ef",
   "metadata": {},
   "outputs": [
    {
     "data": {
      "text/plain": [
       "float"
      ]
     },
     "execution_count": 14,
     "metadata": {},
     "output_type": "execute_result"
    }
   ],
   "source": [
    "type(Sales)"
   ]
  },
  {
   "cell_type": "code",
   "execution_count": 15,
   "id": "a9355ef0",
   "metadata": {},
   "outputs": [],
   "source": [
    "quantity = 10"
   ]
  },
  {
   "cell_type": "code",
   "execution_count": 18,
   "id": "4310c69a",
   "metadata": {},
   "outputs": [
    {
     "data": {
      "text/plain": [
       "int"
      ]
     },
     "execution_count": 18,
     "metadata": {},
     "output_type": "execute_result"
    }
   ],
   "source": [
    "type(quantity)"
   ]
  },
  {
   "cell_type": "code",
   "execution_count": 20,
   "id": "cb799f5a",
   "metadata": {},
   "outputs": [],
   "source": [
    "a = Sales>0"
   ]
  },
  {
   "cell_type": "code",
   "execution_count": 22,
   "id": "ff8e6468",
   "metadata": {},
   "outputs": [
    {
     "data": {
      "text/plain": [
       "bool"
      ]
     },
     "execution_count": 22,
     "metadata": {},
     "output_type": "execute_result"
    }
   ],
   "source": [
    "type(a)"
   ]
  },
  {
   "cell_type": "code",
   "execution_count": null,
   "id": "dcf8fb83",
   "metadata": {},
   "outputs": [],
   "source": []
  },
  {
   "cell_type": "code",
   "execution_count": null,
   "id": "3e832f13",
   "metadata": {},
   "outputs": [],
   "source": []
  },
  {
   "cell_type": "code",
   "execution_count": null,
   "id": "46b1e7d0",
   "metadata": {},
   "outputs": [],
   "source": []
  },
  {
   "cell_type": "code",
   "execution_count": null,
   "id": "70fc6115",
   "metadata": {},
   "outputs": [],
   "source": []
  }
 ],
 "metadata": {
  "kernelspec": {
   "display_name": "Python 3 (ipykernel)",
   "language": "python",
   "name": "python3"
  },
  "language_info": {
   "codemirror_mode": {
    "name": "ipython",
    "version": 3
   },
   "file_extension": ".py",
   "mimetype": "text/x-python",
   "name": "python",
   "nbconvert_exporter": "python",
   "pygments_lexer": "ipython3",
   "version": "3.10.9"
  }
 },
 "nbformat": 4,
 "nbformat_minor": 5
}
