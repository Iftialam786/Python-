{
 "cells": [
  {
   "cell_type": "markdown",
   "id": "087b23cb",
   "metadata": {},
   "source": [
    "# **Regular Expression(re)**"
   ]
  },
  {
   "cell_type": "markdown",
   "id": "2ac0b284",
   "metadata": {},
   "source": [
    "**Important functions from RE module**\n",
    "\n",
    "    finditer()\n",
    "\n",
    "    Match()\n",
    "\n",
    "    fullmatch()\n",
    "\n",
    "    Search()\n",
    "\n",
    "    findall()\n",
    "\n",
    "    sub()\n",
    "\n",
    "    subn()\n",
    "    \n",
    "    split()\n"
   ]
  },
  {
   "cell_type": "code",
   "execution_count": 2,
   "id": "7f5bb4a8",
   "metadata": {},
   "outputs": [],
   "source": [
    "import re"
   ]
  },
  {
   "cell_type": "code",
   "execution_count": 4,
   "id": "d7f8f6bd",
   "metadata": {},
   "outputs": [
    {
     "data": {
      "text/plain": [
       "<callable_iterator at 0x2066edf2aa0>"
      ]
     },
     "execution_count": 4,
     "metadata": {},
     "output_type": "execute_result"
    }
   ],
   "source": [
    "re.finditer('a','a7ba@akc9Z X')"
   ]
  },
  {
   "cell_type": "code",
   "execution_count": 6,
   "id": "dfab0b04",
   "metadata": {},
   "outputs": [
    {
     "name": "stdout",
     "output_type": "stream",
     "text": [
      "<re.Match object; span=(0, 1), match='a'>\n",
      "<re.Match object; span=(3, 4), match='a'>\n",
      "<re.Match object; span=(5, 6), match='a'>\n"
     ]
    }
   ],
   "source": [
    "for i in re.finditer('a','a7ba@akc9Z X'):\n",
    "    print(i)"
   ]
  },
  {
   "cell_type": "code",
   "execution_count": 11,
   "id": "a44453c6",
   "metadata": {},
   "outputs": [
    {
     "name": "stdout",
     "output_type": "stream",
     "text": [
      "0 .... 1 ... a\n",
      "3 .... 4 ... a\n",
      "5 .... 6 ... a\n"
     ]
    }
   ],
   "source": [
    "for i in re.finditer('a','a7ba@akc9Z X'):\n",
    "    print(i.start(), '....',i.end(),'...',i.group())"
   ]
  },
  {
   "cell_type": "code",
   "execution_count": 14,
   "id": "0106b6ab",
   "metadata": {},
   "outputs": [
    {
     "name": "stdout",
     "output_type": "stream",
     "text": [
      "0 .... 1 ... a\n",
      "2 .... 3 ... b\n",
      "3 .... 4 ... a\n",
      "5 .... 6 ... a\n"
     ]
    }
   ],
   "source": [
    "for i in re.finditer('[ab]','a7ba@akc9Z X'):\n",
    "    print(i.start(), '....',i.end(),'...',i.group())"
   ]
  },
  {
   "cell_type": "markdown",
   "id": "c08e1f41",
   "metadata": {},
   "source": [
    "[abc]-Either a or b or c\n",
    "\n",
    "'abc' - only abc together\n",
    "\n",
    "[^abc] - Neither a not b not c\n",
    "\n",
    "[a-z] -small characters\n",
    "\n",
    "[A-Z] - Capital characters\n",
    "\n",
    "[0-9] - Numbers\n",
    "\n",
    "[a-zA-Z0-9] - All alpha numeric\n",
    "\n",
    "[^a-zA-Z0-9] - All special characters\n"
   ]
  },
  {
   "cell_type": "code",
   "execution_count": 15,
   "id": "80627748",
   "metadata": {},
   "outputs": [
    {
     "name": "stdout",
     "output_type": "stream",
     "text": [
      "1 .... 2 ... 7\n",
      "4 .... 5 ... @\n",
      "6 .... 7 ... k\n",
      "7 .... 8 ... c\n",
      "8 .... 9 ... 9\n",
      "9 .... 10 ... Z\n",
      "10 .... 11 ...  \n",
      "11 .... 12 ... X\n"
     ]
    }
   ],
   "source": [
    "for i in re.finditer('[^ab]','a7ba@akc9Z X'):\n",
    "    print(i.start(), '....',i.end(),'...',i.group())"
   ]
  },
  {
   "cell_type": "code",
   "execution_count": 16,
   "id": "48b13393",
   "metadata": {},
   "outputs": [
    {
     "name": "stdout",
     "output_type": "stream",
     "text": [
      "0 .... 1 ... a\n",
      "2 .... 3 ... b\n",
      "3 .... 4 ... a\n",
      "5 .... 6 ... a\n"
     ]
    }
   ],
   "source": [
    "for i in re.finditer('[a-b]','a7ba@akc9Z X'):\n",
    "    print(i.start(), '....',i.end(),'...',i.group())"
   ]
  },
  {
   "cell_type": "code",
   "execution_count": 17,
   "id": "c3f5e2e5",
   "metadata": {},
   "outputs": [
    {
     "name": "stdout",
     "output_type": "stream",
     "text": [
      "9 .... 10 ... Z\n",
      "11 .... 12 ... X\n"
     ]
    }
   ],
   "source": [
    "for i in re.finditer('[A-Z]','a7ba@akc9Z X'):\n",
    "    print(i.start(), '....',i.end(),'...',i.group())"
   ]
  },
  {
   "cell_type": "code",
   "execution_count": 18,
   "id": "a6050221",
   "metadata": {},
   "outputs": [
    {
     "name": "stdout",
     "output_type": "stream",
     "text": [
      "0 .... 1 ... a\n",
      "2 .... 3 ... b\n",
      "3 .... 4 ... a\n",
      "5 .... 6 ... a\n",
      "6 .... 7 ... k\n",
      "7 .... 8 ... c\n",
      "9 .... 10 ... Z\n",
      "11 .... 12 ... X\n"
     ]
    }
   ],
   "source": [
    "for i in re.finditer('[a-zA-Z]','a7ba@akc9Z X'):\n",
    "    print(i.start(), '....',i.end(),'...',i.group())"
   ]
  },
  {
   "cell_type": "code",
   "execution_count": 19,
   "id": "370f420d",
   "metadata": {},
   "outputs": [
    {
     "name": "stdout",
     "output_type": "stream",
     "text": [
      "1 .... 2 ... 7\n",
      "8 .... 9 ... 9\n"
     ]
    }
   ],
   "source": [
    "for i in re.finditer('[0-9]','a7ba@akc9Z X'):\n",
    "    print(i.start(), '....',i.end(),'...',i.group())"
   ]
  },
  {
   "cell_type": "code",
   "execution_count": 20,
   "id": "60829997",
   "metadata": {},
   "outputs": [
    {
     "name": "stdout",
     "output_type": "stream",
     "text": [
      "0 .... 1 ... a\n",
      "1 .... 2 ... 7\n",
      "2 .... 3 ... b\n",
      "3 .... 4 ... a\n",
      "5 .... 6 ... a\n",
      "6 .... 7 ... k\n",
      "7 .... 8 ... c\n",
      "8 .... 9 ... 9\n",
      "9 .... 10 ... Z\n",
      "11 .... 12 ... X\n"
     ]
    }
   ],
   "source": [
    "for i in re.finditer('[a-zA-Z0-9]','a7ba@akc9Z X'):\n",
    "    print(i.start(), '....',i.end(),'...',i.group())"
   ]
  },
  {
   "cell_type": "code",
   "execution_count": 21,
   "id": "7b3c16a8",
   "metadata": {},
   "outputs": [
    {
     "name": "stdout",
     "output_type": "stream",
     "text": [
      "4 .... 5 ... @\n",
      "10 .... 11 ...  \n"
     ]
    }
   ],
   "source": [
    "for i in re.finditer('[^a-zA-Z0-9]','a7ba@akc9Z X'):\n",
    "    print(i.start(), '....',i.end(),'...',i.group())"
   ]
  },
  {
   "cell_type": "code",
   "execution_count": 22,
   "id": "f4fc7af8",
   "metadata": {},
   "outputs": [
    {
     "name": "stdout",
     "output_type": "stream",
     "text": [
      "1 .... 2 ... 7\n",
      "8 .... 9 ... 9\n"
     ]
    }
   ],
   "source": [
    "for i in re.finditer('\\d','a7ba@akc9Z X'):\n",
    "    print(i.start(), '....',i.end(),'...',i.group())"
   ]
  },
  {
   "cell_type": "markdown",
   "id": "c530ddc3",
   "metadata": {},
   "source": [
    "\\d - Only Digits.\n",
    "\n",
    "\\D - Except digits.\n",
    "\n",
    "\\s - space only.\n",
    "\n",
    "\\S - Expect Space.\n",
    "\n",
    "\\w - Alpha Numeric.\n",
    "\n",
    "\\W- Special characters."
   ]
  },
  {
   "cell_type": "code",
   "execution_count": 23,
   "id": "a8df95b9",
   "metadata": {},
   "outputs": [
    {
     "name": "stdout",
     "output_type": "stream",
     "text": [
      "0 .... 1 ... a\n",
      "2 .... 3 ... b\n",
      "3 .... 4 ... a\n",
      "4 .... 5 ... @\n",
      "5 .... 6 ... a\n",
      "6 .... 7 ... k\n",
      "7 .... 8 ... c\n",
      "9 .... 10 ... Z\n",
      "10 .... 11 ...  \n",
      "11 .... 12 ... X\n"
     ]
    }
   ],
   "source": [
    "for i in re.finditer('\\D','a7ba@akc9Z X'):\n",
    "    print(i.start(), '....',i.end(),'...',i.group())"
   ]
  },
  {
   "cell_type": "code",
   "execution_count": 24,
   "id": "5b2a50ea",
   "metadata": {},
   "outputs": [
    {
     "name": "stdout",
     "output_type": "stream",
     "text": [
      "10 .... 11 ...  \n"
     ]
    }
   ],
   "source": [
    "for i in re.finditer('\\s','a7ba@akc9Z X'):\n",
    "    print(i.start(), '....',i.end(),'...',i.group())"
   ]
  },
  {
   "cell_type": "code",
   "execution_count": 25,
   "id": "02fbba85",
   "metadata": {},
   "outputs": [
    {
     "name": "stdout",
     "output_type": "stream",
     "text": [
      "0 .... 1 ... a\n",
      "1 .... 2 ... 7\n",
      "2 .... 3 ... b\n",
      "3 .... 4 ... a\n",
      "4 .... 5 ... @\n",
      "5 .... 6 ... a\n",
      "6 .... 7 ... k\n",
      "7 .... 8 ... c\n",
      "8 .... 9 ... 9\n",
      "9 .... 10 ... Z\n",
      "11 .... 12 ... X\n"
     ]
    }
   ],
   "source": [
    "for i in re.finditer('\\S','a7ba@akc9Z X'):\n",
    "    print(i.start(), '....',i.end(),'...',i.group())"
   ]
  },
  {
   "cell_type": "code",
   "execution_count": 26,
   "id": "cfd815d4",
   "metadata": {},
   "outputs": [
    {
     "name": "stdout",
     "output_type": "stream",
     "text": [
      "0 .... 1 ... a\n",
      "1 .... 2 ... 7\n",
      "2 .... 3 ... b\n",
      "3 .... 4 ... a\n",
      "5 .... 6 ... a\n",
      "6 .... 7 ... k\n",
      "7 .... 8 ... c\n",
      "8 .... 9 ... 9\n",
      "9 .... 10 ... Z\n",
      "11 .... 12 ... X\n"
     ]
    }
   ],
   "source": [
    "for i in re.finditer('\\w','a7ba@akc9Z X'):\n",
    "    print(i.start(), '....',i.end(),'...',i.group())"
   ]
  },
  {
   "cell_type": "code",
   "execution_count": 27,
   "id": "0831585d",
   "metadata": {},
   "outputs": [
    {
     "name": "stdout",
     "output_type": "stream",
     "text": [
      "4 .... 5 ... @\n",
      "10 .... 11 ...  \n"
     ]
    }
   ],
   "source": [
    "for i in re.finditer('\\W','a7ba@akc9Z X'):\n",
    "    print(i.start(), '....',i.end(),'...',i.group())"
   ]
  },
  {
   "cell_type": "code",
   "execution_count": 28,
   "id": "97f23ecf",
   "metadata": {},
   "outputs": [
    {
     "name": "stdout",
     "output_type": "stream",
     "text": [
      "0 .... 1 ... a\n",
      "1 .... 2 ... 7\n",
      "2 .... 3 ... b\n",
      "3 .... 4 ... a\n",
      "4 .... 5 ... @\n",
      "5 .... 6 ... a\n",
      "6 .... 7 ... k\n",
      "7 .... 8 ... c\n",
      "8 .... 9 ... 9\n",
      "9 .... 10 ... Z\n",
      "10 .... 11 ...  \n",
      "11 .... 12 ... X\n"
     ]
    }
   ],
   "source": [
    "for i in re.finditer('.','a7ba@akc9Z X'):\n",
    "    print(i.start(), '....',i.end(),'...',i.group())"
   ]
  },
  {
   "cell_type": "code",
   "execution_count": 29,
   "id": "60ecc299",
   "metadata": {},
   "outputs": [
    {
     "name": "stdout",
     "output_type": "stream",
     "text": [
      "0 .... 1 ... c\n",
      "2 .... 3 ... c\n",
      "3 .... 4 ... c\n",
      "5 .... 6 ... c\n",
      "6 .... 7 ... c\n",
      "7 .... 8 ... c\n"
     ]
    }
   ],
   "source": [
    "for i in re.finditer('c','cdccdcccd'):\n",
    "    print(i.start(), '....',i.end(),'...',i.group())"
   ]
  },
  {
   "cell_type": "code",
   "execution_count": 31,
   "id": "1ada1200",
   "metadata": {},
   "outputs": [
    {
     "name": "stdout",
     "output_type": "stream",
     "text": [
      "1 .... 2 ... d\n",
      "4 .... 5 ... d\n",
      "8 .... 9 ... d\n"
     ]
    }
   ],
   "source": [
    "for i in re.finditer('[^c]','cdccdcccd'):\n",
    "    print(i.start(), '....',i.end(),'...',i.group())"
   ]
  },
  {
   "cell_type": "code",
   "execution_count": 32,
   "id": "451aadec",
   "metadata": {},
   "outputs": [
    {
     "name": "stdout",
     "output_type": "stream",
     "text": [
      "8 .... 9 ... d\n"
     ]
    }
   ],
   "source": [
    "for i in re.finditer('d$','cdccdcccd'):\n",
    "    print(i.start(), '....',i.end(),'...',i.group())"
   ]
  },
  {
   "cell_type": "code",
   "execution_count": 33,
   "id": "562c5a47",
   "metadata": {},
   "outputs": [
    {
     "name": "stdout",
     "output_type": "stream",
     "text": [
      "0 .... 1 ... c\n",
      "2 .... 4 ... cc\n",
      "5 .... 8 ... ccc\n"
     ]
    }
   ],
   "source": [
    "for i in re.finditer('c+','cdccdcccd'):\n",
    "    print(i.start(), '....',i.end(),'...',i.group())"
   ]
  },
  {
   "cell_type": "code",
   "execution_count": 34,
   "id": "4f873b4e",
   "metadata": {},
   "outputs": [
    {
     "name": "stdout",
     "output_type": "stream",
     "text": [
      "0 .... 1 ... c\n",
      "1 .... 2 ... d\n",
      "2 .... 3 ... c\n",
      "3 .... 4 ... c\n",
      "4 .... 5 ... d\n",
      "5 .... 6 ... c\n",
      "6 .... 7 ... c\n",
      "7 .... 8 ... c\n",
      "8 .... 9 ... d\n"
     ]
    }
   ],
   "source": [
    "for i in re.finditer('[cd]','cdccdcccd'):\n",
    "    print(i.start(), '....',i.end(),'...',i.group())"
   ]
  },
  {
   "cell_type": "code",
   "execution_count": 35,
   "id": "57d0a1c9",
   "metadata": {},
   "outputs": [
    {
     "name": "stdout",
     "output_type": "stream",
     "text": [
      "0 .... 1 ... c\n",
      "1 .... 1 ... \n",
      "2 .... 4 ... cc\n",
      "4 .... 4 ... \n",
      "5 .... 8 ... ccc\n",
      "8 .... 8 ... \n",
      "9 .... 9 ... \n"
     ]
    }
   ],
   "source": [
    "for i in re.finditer('c*','cdccdcccd'):\n",
    "    print(i.start(), '....',i.end(),'...',i.group())"
   ]
  },
  {
   "cell_type": "code",
   "execution_count": 36,
   "id": "833a0bbc",
   "metadata": {},
   "outputs": [
    {
     "name": "stdout",
     "output_type": "stream",
     "text": [
      "0 .... 1 ... c\n",
      "1 .... 1 ... \n",
      "2 .... 3 ... c\n",
      "3 .... 4 ... c\n",
      "4 .... 4 ... \n",
      "5 .... 6 ... c\n",
      "6 .... 7 ... c\n",
      "7 .... 8 ... c\n",
      "8 .... 8 ... \n",
      "9 .... 9 ... \n"
     ]
    }
   ],
   "source": [
    "for i in re.finditer('c?','cdccdcccd'):\n",
    "    print(i.start(), '....',i.end(),'...',i.group())"
   ]
  },
  {
   "cell_type": "code",
   "execution_count": 37,
   "id": "2d4cb7ca",
   "metadata": {},
   "outputs": [
    {
     "name": "stdout",
     "output_type": "stream",
     "text": [
      "2 .... 4 ... cc\n",
      "5 .... 8 ... ccc\n"
     ]
    }
   ],
   "source": [
    "for i in re.finditer('c{2,3}','cdccdcccd'):\n",
    "    print(i.start(), '....',i.end(),'...',i.group())"
   ]
  },
  {
   "cell_type": "code",
   "execution_count": 38,
   "id": "bda6c122",
   "metadata": {},
   "outputs": [
    {
     "name": "stdout",
     "output_type": "stream",
     "text": [
      "2 .... 4 ... cc\n",
      "5 .... 7 ... cc\n"
     ]
    }
   ],
   "source": [
    "for i in re.finditer('c{2}','cdccdcccd'):\n",
    "    print(i.start(), '....',i.end(),'...',i.group())"
   ]
  },
  {
   "cell_type": "markdown",
   "id": "b78580be",
   "metadata": {},
   "source": [
    "**Match()**"
   ]
  },
  {
   "cell_type": "code",
   "execution_count": 42,
   "id": "ebbd8fac",
   "metadata": {},
   "outputs": [
    {
     "name": "stdout",
     "output_type": "stream",
     "text": [
      "What are you looking for: Python\n",
      "match found\n"
     ]
    }
   ],
   "source": [
    "string  = 'Python is one of the most powerfull programing languages'\n",
    "lookingfor = input('What are you looking for: ')\n",
    "if re.match(lookingfor,string) != None:\n",
    "    print('match found')\n",
    "else:\n",
    "    print('match not found')\n",
    "\n",
    "\n"
   ]
  },
  {
   "cell_type": "markdown",
   "id": "f711ba7d",
   "metadata": {},
   "source": [
    "**Fullmatch()**"
   ]
  },
  {
   "cell_type": "code",
   "execution_count": 46,
   "id": "1ecbe441",
   "metadata": {},
   "outputs": [
    {
     "name": "stdout",
     "output_type": "stream",
     "text": [
      "What are you looking for: Python is one of the most powerfull programing languages\n",
      "match found\n"
     ]
    }
   ],
   "source": [
    "string  = 'Python is one of the most powerfull programing languages'\n",
    "lookingfor = input('What are you looking for: ')\n",
    "if re.fullmatch(lookingfor,string) != None:\n",
    "    print('match found')\n",
    "else:\n",
    "    print('match not found')\n",
    "\n"
   ]
  },
  {
   "cell_type": "markdown",
   "id": "98c358fe",
   "metadata": {},
   "source": [
    "**Search()**"
   ]
  },
  {
   "cell_type": "code",
   "execution_count": 48,
   "id": "3123a2b1",
   "metadata": {},
   "outputs": [
    {
     "name": "stdout",
     "output_type": "stream",
     "text": [
      "What are you looking for: powerfull\n",
      "match found\n"
     ]
    }
   ],
   "source": [
    "string  = 'Python is one of the most powerfull programing languages'\n",
    "lookingfor = input('What are you looking for: ')\n",
    "if re.search(lookingfor,string) != None:\n",
    "    print('match found')\n",
    "else:\n",
    "    print('match not found')\n"
   ]
  },
  {
   "cell_type": "markdown",
   "id": "72630270",
   "metadata": {},
   "source": [
    "**findall()**"
   ]
  },
  {
   "cell_type": "code",
   "execution_count": 49,
   "id": "1d1dc242",
   "metadata": {},
   "outputs": [
    {
     "name": "stdout",
     "output_type": "stream",
     "text": [
      "What keyword are you looking for: Python\n",
      "Your resume got selected\n"
     ]
    }
   ],
   "source": [
    "resume = 'Pythone is powerfull, Python is the future, Python is Python'\n",
    "keyword = input('What keyword are you looking for: ')\n",
    "if  len(re.findall(keyword,resume))>3:\n",
    "    print('Your resume got selected')\n",
    "else:\n",
    "    print('Your resume got rejected')"
   ]
  },
  {
   "cell_type": "markdown",
   "id": "f58c57f8",
   "metadata": {},
   "source": [
    "**sub()**"
   ]
  },
  {
   "cell_type": "code",
   "execution_count": 51,
   "id": "896adbe4",
   "metadata": {},
   "outputs": [
    {
     "name": "stdout",
     "output_type": "stream",
     "text": [
      "what you want to changePython\n",
      "What value you want: Java\n"
     ]
    },
    {
     "data": {
      "text/plain": [
       "'Javae is powerfull, Java is the future, Java is Java'"
      ]
     },
     "execution_count": 51,
     "metadata": {},
     "output_type": "execute_result"
    }
   ],
   "source": [
    "resume = 'Pythone is powerfull, Python is the future, Python is Python'\n",
    "whattochange = input('what you want to change')\n",
    "withwhat = input('What value you want: ')\n",
    "re.sub(whattochange,  withwhat, resume)"
   ]
  },
  {
   "cell_type": "code",
   "execution_count": 52,
   "id": "aee59bf7",
   "metadata": {},
   "outputs": [
    {
     "name": "stdout",
     "output_type": "stream",
     "text": [
      "what you want to changePython\n",
      "What value you want: Java\n"
     ]
    },
    {
     "data": {
      "text/plain": [
       "('Javae is powerfull, Java is the future, Java is Java', 4)"
      ]
     },
     "execution_count": 52,
     "metadata": {},
     "output_type": "execute_result"
    }
   ],
   "source": [
    "resume = 'Pythone is powerfull, Python is the future, Python is Python'\n",
    "whattochange = input('what you want to change')\n",
    "withwhat = input('What value you want: ')\n",
    "re.subn(whattochange,  withwhat, resume)"
   ]
  },
  {
   "cell_type": "markdown",
   "id": "fec96331",
   "metadata": {},
   "source": [
    "**split()**"
   ]
  },
  {
   "cell_type": "code",
   "execution_count": 53,
   "id": "9a60538b",
   "metadata": {},
   "outputs": [
    {
     "data": {
      "text/plain": [
       "['10', '20', '30', '40', '50']"
      ]
     },
     "execution_count": 53,
     "metadata": {},
     "output_type": "execute_result"
    }
   ],
   "source": [
    "re.split('-','10-20-30-40-50')"
   ]
  },
  {
   "cell_type": "code",
   "execution_count": 55,
   "id": "2ea710ee",
   "metadata": {},
   "outputs": [
    {
     "data": {
      "text/plain": [
       "['www', 'thescholar', 'co', 'in']"
      ]
     },
     "execution_count": 55,
     "metadata": {},
     "output_type": "execute_result"
    }
   ],
   "source": [
    "re.split('\\.','www.thescholar.co.in')"
   ]
  },
  {
   "cell_type": "code",
   "execution_count": 56,
   "id": "a421ea0b",
   "metadata": {},
   "outputs": [
    {
     "data": {
      "text/plain": [
       "['www', 'thescholar', 'co', 'in']"
      ]
     },
     "execution_count": 56,
     "metadata": {},
     "output_type": "execute_result"
    }
   ],
   "source": [
    "re.split('[.]','www.thescholar.co.in')"
   ]
  },
  {
   "cell_type": "code",
   "execution_count": 57,
   "id": "e7fda2ed",
   "metadata": {},
   "outputs": [
    {
     "data": {
      "text/plain": [
       "<re.Match object; span=(0, 8), match='Learning'>"
      ]
     },
     "execution_count": 57,
     "metadata": {},
     "output_type": "execute_result"
    }
   ],
   "source": [
    "string = 'Learning Python is very  easy'\n",
    "re.search('^Learning', string)"
   ]
  },
  {
   "cell_type": "code",
   "execution_count": 58,
   "id": "4fd29909",
   "metadata": {},
   "outputs": [
    {
     "data": {
      "text/plain": [
       "<re.Match object; span=(0, 8), match='Learning'>"
      ]
     },
     "execution_count": 58,
     "metadata": {},
     "output_type": "execute_result"
    }
   ],
   "source": [
    "string = 'Learning Python is very  easy'\n",
    "re.search('^learning', string, re.IGNORECASE)"
   ]
  },
  {
   "cell_type": "code",
   "execution_count": 61,
   "id": "f04612f9",
   "metadata": {},
   "outputs": [
    {
     "data": {
      "text/plain": [
       "<re.Match object; span=(25, 29), match='easy'>"
      ]
     },
     "execution_count": 61,
     "metadata": {},
     "output_type": "execute_result"
    }
   ],
   "source": [
    "string = 'Learning Python is very  easy'\n",
    "re.search('EASY$', string, re.IGNORECASE)"
   ]
  },
  {
   "cell_type": "markdown",
   "id": "987aa141",
   "metadata": {},
   "source": [
    "**Scenario 1 - Checking the  password condition**"
   ]
  },
  {
   "cell_type": "markdown",
   "id": "667a0cb2",
   "metadata": {},
   "source": [
    "a) The allowable characters are\n",
    "\n",
    "    a.1) Alphabets (A-Z,a-z)\n",
    "    a.2) Digits(0-9)\n",
    "    a.3) Hast(#)\n",
    "        \n",
    "b) First character should be lowercase that too between (a-k)\n",
    "\n",
    "c) Second character should be a number which  is divisible by 3i.e. o,3,6,9\n",
    "\n",
    "d) The lenghth of  the password \n",
    "\n",
    "    d.1) Should be Exaxtly 5 characters\n",
    "    d.2) Should be minimum 5 characters"
   ]
  },
  {
   "cell_type": "code",
   "execution_count": 63,
   "id": "b5bcd008",
   "metadata": {},
   "outputs": [
    {
     "name": "stdout",
     "output_type": "stream",
     "text": [
      "Enter the password which you created: a3###\n",
      "Your password is asper the guidlines\n"
     ]
    }
   ],
   "source": [
    "password = input('Enter the password which you created: ')\n",
    "if re.fullmatch('[a-k][0369][a-zA-Z0-9#]{3}', password) != None:\n",
    "    print('Your password is asper the guidlines')\n",
    "else:\n",
    "    print('Recreate the password')"
   ]
  },
  {
   "cell_type": "code",
   "execution_count": 64,
   "id": "7add7dc4",
   "metadata": {},
   "outputs": [
    {
     "name": "stdout",
     "output_type": "stream",
     "text": [
      "Enter the password which you created: a3#######\n",
      "Your password is asper the guidlines\n"
     ]
    }
   ],
   "source": [
    "password = input('Enter the password which you created: ')\n",
    "if re.fullmatch('[a-k][0369][a-zA-Z0-9#]{3,}', password) != None:\n",
    "    print('Your password is asper the guidlines')\n",
    "else:\n",
    "    print('Recreate the password')"
   ]
  },
  {
   "cell_type": "markdown",
   "id": "3cda9415",
   "metadata": {},
   "source": [
    "**2) Pan card Varification**"
   ]
  },
  {
   "cell_type": "code",
   "execution_count": 73,
   "id": "73676393",
   "metadata": {},
   "outputs": [
    {
     "name": "stdout",
     "output_type": "stream",
     "text": [
      "Enter the pancard number: BWPPA9712H\n",
      "Your pancard is valid BWPPA9712H\n"
     ]
    }
   ],
   "source": [
    "pancard = input('Enter the pancard number: ')\n",
    "if re.fullmatch('[A-Z]{3}[CPHFATBLJG][A-Z][0-9]{4}[A-Z]',pancard, re.IGNORECASE)!=None:\n",
    "    print('Your pancard is valid', pancard)\n",
    "else:\n",
    "    print('Your pancard is not valid', pancard)"
   ]
  },
  {
   "cell_type": "markdown",
   "id": "b7791e2c",
   "metadata": {},
   "source": [
    "**Phone no Verfication**"
   ]
  },
  {
   "cell_type": "code",
   "execution_count": 75,
   "id": "1932d89b",
   "metadata": {},
   "outputs": [
    {
     "name": "stdout",
     "output_type": "stream",
     "text": [
      "Enter the phone number: 9473939823\n",
      "Valid phone no:  9473939823\n"
     ]
    }
   ],
   "source": [
    "phone = input('Enter the phone number: ')\n",
    "if re.fullmatch('[6-9]\\d{9}', phone) != None:\n",
    "    print('Valid phone no: ', phone)\n",
    "else:\n",
    "    print('Invalid phone number: ', phone)"
   ]
  },
  {
   "cell_type": "code",
   "execution_count": 76,
   "id": "8c7179b1",
   "metadata": {},
   "outputs": [
    {
     "name": "stdout",
     "output_type": "stream",
     "text": [
      "Enter your email: alam@gmail.com\n",
      "Valid email address:  alam@gmail.com\n"
     ]
    }
   ],
   "source": [
    "email = input('Enter your email: ')\n",
    "if re.fullmatch('[A-Z0-9_.]*@gmail[.]com', email, re.IGNORECASE)!=None:\n",
    "    print('Valid email address: ', email)\n",
    "else:\n",
    "    print('Invalid email address: ', email)"
   ]
  },
  {
   "cell_type": "code",
   "execution_count": 78,
   "id": "274d7e98",
   "metadata": {},
   "outputs": [
    {
     "name": "stdout",
     "output_type": "stream",
     "text": [
      "Enter your email: alam@yahoo.com\n",
      "Valid email address:  alam@yahoo.com\n"
     ]
    }
   ],
   "source": [
    "email = input('Enter your email: ')\n",
    "if re.fullmatch('[A-Z0-9_.]*@(gmail|yahoo)[.]com', email, re.IGNORECASE)!=None:\n",
    "    print('Valid email address: ', email)\n",
    "else:\n",
    "    print('Invalid email address: ', email)"
   ]
  },
  {
   "cell_type": "code",
   "execution_count": 79,
   "id": "5cbd8fed",
   "metadata": {},
   "outputs": [
    {
     "name": "stdout",
     "output_type": "stream",
     "text": [
      "Enter your email: alam@idfc.com\n",
      "Valid email address:  alam@idfc.com\n"
     ]
    }
   ],
   "source": [
    "email = input('Enter your email: ')\n",
    "if re.fullmatch('[A-Z0-9_.]*@[A-Z0-9]*[.]com', email, re.IGNORECASE)!=None:\n",
    "    print('Valid email address: ', email)\n",
    "else:\n",
    "    print('Invalid email address: ', email)"
   ]
  },
  {
   "cell_type": "code",
   "execution_count": 80,
   "id": "e5d06a87",
   "metadata": {},
   "outputs": [],
   "source": [
    "import urllib.request\n",
    "url = 'https://www.summet.com/dmsi/html/codesamples/addresses.html'\n",
    "response = urllib.request.urlopen(url)\n",
    "data = response.read()\n",
    "data = data.decode()"
   ]
  },
  {
   "cell_type": "code",
   "execution_count": 81,
   "id": "55a030f8",
   "metadata": {},
   "outputs": [
    {
     "data": {
      "text/plain": [
       "['(257) 563-7401',\n",
       " '(372) 587-2335',\n",
       " '(786) 713-8616',\n",
       " '(793) 151-6230',\n",
       " '(492) 709-6392',\n",
       " '(654) 393-5734',\n",
       " '(404) 960-3807',\n",
       " '(314) 244-6306',\n",
       " '(947) 278-5929',\n",
       " '(684) 579-1879',\n",
       " '(389) 737-2852',\n",
       " '(660) 663-4518',\n",
       " '(608) 265-2215',\n",
       " '(959) 119-8364',\n",
       " '(468) 353-2641',\n",
       " '(248) 675-4007',\n",
       " '(939) 353-1107',\n",
       " '(570) 873-7090',\n",
       " '(302) 259-2375',\n",
       " '(717) 450-4729',\n",
       " '(453) 391-4650',\n",
       " '(559) 104-5475',\n",
       " '(387) 142-9434',\n",
       " '(516) 745-4496',\n",
       " '(326) 677-3419',\n",
       " '(746) 679-2470',\n",
       " '(455) 430-0989',\n",
       " '(490) 936-4694',\n",
       " '(985) 834-8285',\n",
       " '(662) 661-1446',\n",
       " '(802) 668-8240',\n",
       " '(477) 768-9247',\n",
       " '(791) 239-9057',\n",
       " '(832) 109-0213',\n",
       " '(837) 196-3274',\n",
       " '(268) 442-2428',\n",
       " '(850) 676-5117',\n",
       " '(861) 546-5032',\n",
       " '(176) 805-4108',\n",
       " '(715) 912-6931',\n",
       " '(993) 554-0563',\n",
       " '(357) 616-5411',\n",
       " '(121) 347-0086',\n",
       " '(304) 506-6314',\n",
       " '(425) 288-2332',\n",
       " '(145) 987-4962',\n",
       " '(187) 582-9707',\n",
       " '(750) 558-3965',\n",
       " '(492) 467-3131',\n",
       " '(774) 914-2510',\n",
       " '(888) 106-8550',\n",
       " '(539) 567-3573',\n",
       " '(693) 337-2849',\n",
       " '(545) 604-9386',\n",
       " '(221) 156-5026',\n",
       " '(414) 876-0865',\n",
       " '(932) 726-8645',\n",
       " '(726) 710-9826',\n",
       " '(622) 594-1662',\n",
       " '(948) 600-8503',\n",
       " '(605) 900-7508',\n",
       " '(716) 977-5775',\n",
       " '(368) 239-8275',\n",
       " '(725) 342-0650',\n",
       " '(711) 993-5187',\n",
       " '(882) 399-5084',\n",
       " '(287) 755-9948',\n",
       " '(659) 551-3389',\n",
       " '(275) 730-6868',\n",
       " '(725) 757-4047',\n",
       " '(314) 882-1496',\n",
       " '(639) 360-7590',\n",
       " '(168) 222-1592',\n",
       " '(896) 303-1164',\n",
       " '(203) 982-6130',\n",
       " '(906) 217-1470',\n",
       " '(614) 514-1269',\n",
       " '(763) 409-5446',\n",
       " '(836) 292-5324',\n",
       " '(926) 709-3295',\n",
       " '(963) 356-9268',\n",
       " '(736) 522-8584',\n",
       " '(410) 483-0352',\n",
       " '(252) 204-1434',\n",
       " '(874) 886-4174',\n",
       " '(581) 379-7573',\n",
       " '(983) 632-8597',\n",
       " '(295) 983-3476',\n",
       " '(873) 392-8802',\n",
       " '(360) 669-3923',\n",
       " '(840) 987-9449',\n",
       " '(422) 517-6053',\n",
       " '(126) 940-2753',\n",
       " '(427) 930-5255',\n",
       " '(689) 721-5145',\n",
       " '(676) 334-2174',\n",
       " '(437) 994-5270',\n",
       " '(564) 908-6970',\n",
       " '(577) 333-6244',\n",
       " '(655) 840-6139']"
      ]
     },
     "execution_count": 81,
     "metadata": {},
     "output_type": "execute_result"
    }
   ],
   "source": [
    "re.findall('\\(\\d{3}\\) \\d{3}-\\d{4}', data)"
   ]
  },
  {
   "cell_type": "code",
   "execution_count": null,
   "id": "966ecedf",
   "metadata": {},
   "outputs": [],
   "source": []
  }
 ],
 "metadata": {
  "kernelspec": {
   "display_name": "Python 3 (ipykernel)",
   "language": "python",
   "name": "python3"
  },
  "language_info": {
   "codemirror_mode": {
    "name": "ipython",
    "version": 3
   },
   "file_extension": ".py",
   "mimetype": "text/x-python",
   "name": "python",
   "nbconvert_exporter": "python",
   "pygments_lexer": "ipython3",
   "version": "3.10.9"
  }
 },
 "nbformat": 4,
 "nbformat_minor": 5
}
