{
 "cells": [
  {
   "cell_type": "markdown",
   "id": "f69884b3",
   "metadata": {},
   "source": [
    "# Set in Python"
   ]
  },
  {
   "cell_type": "markdown",
   "id": "421150de",
   "metadata": {},
   "source": [
    "Properties of sets\n",
    "\n",
    "    1) Duplicates are not allowed\n",
    "    2) Heterogeneous data allowed\n",
    "    3) sets are mutalbe in nature\n",
    "    4) Curly brackets to create the sets\n",
    "    5) values in the sets always sorted in the ascending order\n",
    "    6) We cannot slice the sets as there is no concept of index in the sets "
   ]
  },
  {
   "cell_type": "code",
   "execution_count": 32,
   "id": "4673bb34",
   "metadata": {},
   "outputs": [],
   "source": [
    "set1 = {21,22,12,21,43,44,32,21,10}"
   ]
  },
  {
   "cell_type": "code",
   "execution_count": 3,
   "id": "93465df8",
   "metadata": {},
   "outputs": [
    {
     "data": {
      "text/plain": [
       "7"
      ]
     },
     "execution_count": 3,
     "metadata": {},
     "output_type": "execute_result"
    }
   ],
   "source": [
    "len(set1)"
   ]
  },
  {
   "cell_type": "code",
   "execution_count": 4,
   "id": "6c00c7e0",
   "metadata": {},
   "outputs": [
    {
     "data": {
      "text/plain": [
       "44"
      ]
     },
     "execution_count": 4,
     "metadata": {},
     "output_type": "execute_result"
    }
   ],
   "source": [
    "max(set1)"
   ]
  },
  {
   "cell_type": "code",
   "execution_count": 5,
   "id": "b37ce36f",
   "metadata": {},
   "outputs": [],
   "source": [
    "set1 = {'A', 10.5,13, True}"
   ]
  },
  {
   "cell_type": "code",
   "execution_count": 6,
   "id": "ba215165",
   "metadata": {},
   "outputs": [
    {
     "data": {
      "text/plain": [
       "{10.5, 13, 'A', True}"
      ]
     },
     "execution_count": 6,
     "metadata": {},
     "output_type": "execute_result"
    }
   ],
   "source": [
    "set1"
   ]
  },
  {
   "cell_type": "markdown",
   "id": "80689fd9",
   "metadata": {},
   "source": [
    "Add- Add will add the single value of the set based on the ascending order"
   ]
  },
  {
   "cell_type": "code",
   "execution_count": 9,
   "id": "ded8f5f6",
   "metadata": {},
   "outputs": [],
   "source": [
    "set1.add(100)"
   ]
  },
  {
   "cell_type": "code",
   "execution_count": 10,
   "id": "a858c6d4",
   "metadata": {},
   "outputs": [
    {
     "data": {
      "text/plain": [
       "{10, 12, 21, 22, 32, 43, 44, 100}"
      ]
     },
     "execution_count": 10,
     "metadata": {},
     "output_type": "execute_result"
    }
   ],
   "source": [
    "set1"
   ]
  },
  {
   "cell_type": "markdown",
   "id": "558201d4",
   "metadata": {},
   "source": [
    "Update - Helps to add the multiple values in the set"
   ]
  },
  {
   "cell_type": "code",
   "execution_count": 11,
   "id": "773cbac0",
   "metadata": {},
   "outputs": [],
   "source": [
    "set1.update([101,102,103])"
   ]
  },
  {
   "cell_type": "code",
   "execution_count": 12,
   "id": "47258bb7",
   "metadata": {},
   "outputs": [
    {
     "data": {
      "text/plain": [
       "{10, 12, 21, 22, 32, 43, 44, 100, 101, 102, 103}"
      ]
     },
     "execution_count": 12,
     "metadata": {},
     "output_type": "execute_result"
    }
   ],
   "source": [
    "set1"
   ]
  },
  {
   "cell_type": "markdown",
   "id": "c4452ec7",
   "metadata": {},
   "source": [
    "Clear() - Clear the values from the set, the structure will be there it just remove value of the set."
   ]
  },
  {
   "cell_type": "code",
   "execution_count": 13,
   "id": "b4e7d9fb",
   "metadata": {},
   "outputs": [],
   "source": [
    "set1.clear()"
   ]
  },
  {
   "cell_type": "code",
   "execution_count": 14,
   "id": "b0bee5a4",
   "metadata": {},
   "outputs": [
    {
     "data": {
      "text/plain": [
       "set()"
      ]
     },
     "execution_count": 14,
     "metadata": {},
     "output_type": "execute_result"
    }
   ],
   "source": [
    "set1"
   ]
  },
  {
   "cell_type": "code",
   "execution_count": null,
   "id": "a97f12bc",
   "metadata": {},
   "outputs": [],
   "source": [
    "Copy()- Copy will create the backup of the set"
   ]
  },
  {
   "cell_type": "code",
   "execution_count": 16,
   "id": "b6bf47c8",
   "metadata": {},
   "outputs": [
    {
     "data": {
      "text/plain": [
       "{10, 12, 21, 22, 32, 43, 44}"
      ]
     },
     "execution_count": 16,
     "metadata": {},
     "output_type": "execute_result"
    }
   ],
   "source": [
    "set1.copy()"
   ]
  },
  {
   "cell_type": "markdown",
   "id": "b753a0bd",
   "metadata": {},
   "source": [
    "Discard()-it Removes the value from the set, discard if we run again when the value is not there it will still run but does not have any impact on the set and does not have any error. "
   ]
  },
  {
   "cell_type": "code",
   "execution_count": 17,
   "id": "dea0cd91",
   "metadata": {},
   "outputs": [],
   "source": [
    "set1.discard(44)"
   ]
  },
  {
   "cell_type": "code",
   "execution_count": 18,
   "id": "99c32d84",
   "metadata": {},
   "outputs": [
    {
     "data": {
      "text/plain": [
       "{10, 12, 21, 22, 32, 43}"
      ]
     },
     "execution_count": 18,
     "metadata": {},
     "output_type": "execute_result"
    }
   ],
   "source": [
    "set1"
   ]
  },
  {
   "cell_type": "markdown",
   "id": "40eb9b80",
   "metadata": {},
   "source": [
    "Revome()- It removes the value from the set and if the value is not present it will throw the error."
   ]
  },
  {
   "cell_type": "code",
   "execution_count": 34,
   "id": "8cc8d2c2",
   "metadata": {},
   "outputs": [],
   "source": [
    "set1.remove(43)"
   ]
  },
  {
   "cell_type": "code",
   "execution_count": 33,
   "id": "305f9cca",
   "metadata": {},
   "outputs": [
    {
     "data": {
      "text/plain": [
       "32"
      ]
     },
     "execution_count": 33,
     "metadata": {},
     "output_type": "execute_result"
    }
   ],
   "source": [
    "set1.pop()"
   ]
  },
  {
   "cell_type": "code",
   "execution_count": 48,
   "id": "8abe0048",
   "metadata": {},
   "outputs": [],
   "source": [
    "set1 = {1,2,3,4,5,6}\n",
    "set2 = {4,5,6}\n",
    "set3 = {5,6,7,8}\n",
    "set4 = {10,11,12,13}"
   ]
  },
  {
   "cell_type": "code",
   "execution_count": 37,
   "id": "76c69a29",
   "metadata": {},
   "outputs": [
    {
     "data": {
      "text/plain": [
       "{1, 2, 3, 4}"
      ]
     },
     "execution_count": 37,
     "metadata": {},
     "output_type": "execute_result"
    }
   ],
   "source": [
    "set1.difference(set3)"
   ]
  },
  {
   "cell_type": "code",
   "execution_count": 38,
   "id": "8b2dbdd7",
   "metadata": {},
   "outputs": [
    {
     "data": {
      "text/plain": [
       "{1, 2, 3, 4, 7, 8}"
      ]
     },
     "execution_count": 38,
     "metadata": {},
     "output_type": "execute_result"
    }
   ],
   "source": [
    "set1.symmetric_difference(set3)"
   ]
  },
  {
   "cell_type": "code",
   "execution_count": 39,
   "id": "7c424bf2",
   "metadata": {},
   "outputs": [
    {
     "data": {
      "text/plain": [
       "{5, 6}"
      ]
     },
     "execution_count": 39,
     "metadata": {},
     "output_type": "execute_result"
    }
   ],
   "source": [
    "set1.intersection(set3)"
   ]
  },
  {
   "cell_type": "code",
   "execution_count": 40,
   "id": "560eaf75",
   "metadata": {},
   "outputs": [],
   "source": [
    "set1.difference_update(set3)"
   ]
  },
  {
   "cell_type": "code",
   "execution_count": 41,
   "id": "35a8b1ae",
   "metadata": {},
   "outputs": [
    {
     "data": {
      "text/plain": [
       "{1, 2, 3, 4}"
      ]
     },
     "execution_count": 41,
     "metadata": {},
     "output_type": "execute_result"
    }
   ],
   "source": [
    "set1"
   ]
  },
  {
   "cell_type": "code",
   "execution_count": 43,
   "id": "12dcf3e3",
   "metadata": {},
   "outputs": [],
   "source": [
    "set1.intersection_update(set3)"
   ]
  },
  {
   "cell_type": "code",
   "execution_count": 44,
   "id": "b0b109f1",
   "metadata": {},
   "outputs": [
    {
     "data": {
      "text/plain": [
       "{5, 6}"
      ]
     },
     "execution_count": 44,
     "metadata": {},
     "output_type": "execute_result"
    }
   ],
   "source": [
    "set1"
   ]
  },
  {
   "cell_type": "code",
   "execution_count": 46,
   "id": "7ec9752a",
   "metadata": {},
   "outputs": [],
   "source": [
    "set1.symmetric_difference_update(set3)"
   ]
  },
  {
   "cell_type": "code",
   "execution_count": 47,
   "id": "6e5e89c3",
   "metadata": {},
   "outputs": [
    {
     "data": {
      "text/plain": [
       "{1, 2, 3, 4, 7, 8}"
      ]
     },
     "execution_count": 47,
     "metadata": {},
     "output_type": "execute_result"
    }
   ],
   "source": [
    "set1"
   ]
  },
  {
   "cell_type": "code",
   "execution_count": 50,
   "id": "6f4a7bfa",
   "metadata": {},
   "outputs": [
    {
     "data": {
      "text/plain": [
       "True"
      ]
     },
     "execution_count": 50,
     "metadata": {},
     "output_type": "execute_result"
    }
   ],
   "source": [
    "set1.isdisjoint(set4)"
   ]
  },
  {
   "cell_type": "code",
   "execution_count": 52,
   "id": "c0c15008",
   "metadata": {},
   "outputs": [
    {
     "data": {
      "text/plain": [
       "True"
      ]
     },
     "execution_count": 52,
     "metadata": {},
     "output_type": "execute_result"
    }
   ],
   "source": [
    "set1.issuperset(set2)"
   ]
  },
  {
   "cell_type": "code",
   "execution_count": 53,
   "id": "ef313129",
   "metadata": {},
   "outputs": [
    {
     "data": {
      "text/plain": [
       "True"
      ]
     },
     "execution_count": 53,
     "metadata": {},
     "output_type": "execute_result"
    }
   ],
   "source": [
    "set2.issubset(set1)"
   ]
  },
  {
   "cell_type": "code",
   "execution_count": 54,
   "id": "7407c15e",
   "metadata": {},
   "outputs": [],
   "source": [
    "output = set1.union(set4)"
   ]
  },
  {
   "cell_type": "code",
   "execution_count": 55,
   "id": "e11078c8",
   "metadata": {},
   "outputs": [
    {
     "data": {
      "text/plain": [
       "{1, 2, 3, 4, 5, 6, 10, 11, 12, 13}"
      ]
     },
     "execution_count": 55,
     "metadata": {},
     "output_type": "execute_result"
    }
   ],
   "source": [
    "output"
   ]
  },
  {
   "cell_type": "markdown",
   "id": "a71d5d35",
   "metadata": {},
   "source": [
    "Frozenset - Immutable in nature"
   ]
  },
  {
   "cell_type": "code",
   "execution_count": 56,
   "id": "7b6acd36",
   "metadata": {},
   "outputs": [],
   "source": [
    "fsset = frozenset(set1)"
   ]
  },
  {
   "cell_type": "code",
   "execution_count": 57,
   "id": "bb9190b1",
   "metadata": {},
   "outputs": [
    {
     "data": {
      "text/plain": [
       "frozenset"
      ]
     },
     "execution_count": 57,
     "metadata": {},
     "output_type": "execute_result"
    }
   ],
   "source": [
    "type(fsset)"
   ]
  },
  {
   "cell_type": "markdown",
   "id": "d637fec4",
   "metadata": {},
   "source": [
    "Sets - when we are having duplicates and we need to remove those then we can create the set anf all the duplicates we will get removed "
   ]
  },
  {
   "cell_type": "markdown",
   "id": "7532574f",
   "metadata": {},
   "source": [
    "\n",
    "# Dictionaries"
   ]
  },
  {
   "cell_type": "markdown",
   "id": "c6c14c14",
   "metadata": {},
   "source": [
    "Its a key value pair concept where key and values are seprated bu colon : \n",
    "\n",
    "    1) Create by curly brackets "
   ]
  },
  {
   "cell_type": "code",
   "execution_count": 1,
   "id": "48ee52ee",
   "metadata": {},
   "outputs": [],
   "source": [
    "Student_details = {'stuid' : 1, 'Sname' : 'A', 'sregion':'N'}"
   ]
  },
  {
   "cell_type": "code",
   "execution_count": 2,
   "id": "301774ee",
   "metadata": {},
   "outputs": [
    {
     "data": {
      "text/plain": [
       "dict"
      ]
     },
     "execution_count": 2,
     "metadata": {},
     "output_type": "execute_result"
    }
   ],
   "source": [
    "type(Student_details)"
   ]
  },
  {
   "cell_type": "code",
   "execution_count": 31,
   "id": "3ad68dfc",
   "metadata": {},
   "outputs": [],
   "source": [
    "Student_details = {'stuid':[1,2,3,4,5], 'Sname':['A','B','C','D','E'],'sregion':['N','S','S','E','W']}"
   ]
  },
  {
   "cell_type": "markdown",
   "id": "141c4fe7",
   "metadata": {},
   "source": [
    "We can pass tuple as well in place of list, but the value will not get updated because it is a tuple."
   ]
  },
  {
   "cell_type": "code",
   "execution_count": 26,
   "id": "5292e577",
   "metadata": {},
   "outputs": [
    {
     "data": {
      "text/plain": [
       "{'stuid': [1, 2, 3, 4, 5],\n",
       " 'Sname': ['A', 'B', 'C', 'D', 'E'],\n",
       " 'sregion': ['N', 'S', 'S', 'E', 'W']}"
      ]
     },
     "execution_count": 26,
     "metadata": {},
     "output_type": "execute_result"
    }
   ],
   "source": [
    "Student_details"
   ]
  },
  {
   "cell_type": "markdown",
   "id": "f9e904c9",
   "metadata": {},
   "source": [
    "Length cammad will count the number of key value pairs"
   ]
  },
  {
   "cell_type": "code",
   "execution_count": 5,
   "id": "fbdf254a",
   "metadata": {},
   "outputs": [
    {
     "data": {
      "text/plain": [
       "3"
      ]
     },
     "execution_count": 5,
     "metadata": {},
     "output_type": "execute_result"
    }
   ],
   "source": [
    "len(Student_details)"
   ]
  },
  {
   "cell_type": "markdown",
   "id": "b5126787",
   "metadata": {},
   "source": [
    "Clear()- It will clear the values from the dictionary and make it as an emplty dictionary"
   ]
  },
  {
   "cell_type": "code",
   "execution_count": 6,
   "id": "523bceee",
   "metadata": {},
   "outputs": [],
   "source": [
    "Student_details.clear()"
   ]
  },
  {
   "cell_type": "markdown",
   "id": "eca05cdb",
   "metadata": {},
   "source": [
    "Copy() - it will create a backup of the dictionary"
   ]
  },
  {
   "cell_type": "code",
   "execution_count": 8,
   "id": "98cd8a14",
   "metadata": {},
   "outputs": [
    {
     "data": {
      "text/plain": [
       "1559772454336"
      ]
     },
     "execution_count": 8,
     "metadata": {},
     "output_type": "execute_result"
    }
   ],
   "source": [
    "id(Student_details.copy())"
   ]
  },
  {
   "cell_type": "code",
   "execution_count": null,
   "id": "51852834",
   "metadata": {},
   "outputs": [],
   "source": [
    "Get()- it will give the values of the key passed in that cammand"
   ]
  },
  {
   "cell_type": "code",
   "execution_count": 15,
   "id": "a9371f73",
   "metadata": {},
   "outputs": [
    {
     "data": {
      "text/plain": [
       "[1, 2, 3, 4, 5]"
      ]
     },
     "execution_count": 15,
     "metadata": {},
     "output_type": "execute_result"
    }
   ],
   "source": [
    "Student_details.get('stuid')"
   ]
  },
  {
   "cell_type": "markdown",
   "id": "ce2870f4",
   "metadata": {},
   "source": [
    "Item () - It will give all the key value pairs together"
   ]
  },
  {
   "cell_type": "code",
   "execution_count": 76,
   "id": "c8110e50",
   "metadata": {},
   "outputs": [
    {
     "data": {
      "text/plain": [
       "dict_items([('stuid', [1, 2, 3, 4, 5]), ('Sname', ['A', 'B', 'C', 'D', 'E']), ('sregion', ['N', 'S', 'S', 'E', 'W'])])"
      ]
     },
     "execution_count": 76,
     "metadata": {},
     "output_type": "execute_result"
    }
   ],
   "source": [
    "Student_details.items()"
   ]
  },
  {
   "cell_type": "markdown",
   "id": "1f689f15",
   "metadata": {},
   "source": [
    "**Key**- It will give all the key from the dictionary"
   ]
  },
  {
   "cell_type": "code",
   "execution_count": 16,
   "id": "e24650b8",
   "metadata": {},
   "outputs": [
    {
     "data": {
      "text/plain": [
       "dict_keys(['stuid', 'Sname', 'sregion'])"
      ]
     },
     "execution_count": 16,
     "metadata": {},
     "output_type": "execute_result"
    }
   ],
   "source": [
    "Student_details.keys()"
   ]
  },
  {
   "cell_type": "markdown",
   "id": "b0818785",
   "metadata": {},
   "source": [
    "**Values**-It will give all the values from the dictionary "
   ]
  },
  {
   "cell_type": "code",
   "execution_count": 78,
   "id": "e47ed8ca",
   "metadata": {},
   "outputs": [
    {
     "data": {
      "text/plain": [
       "dict_values([[1, 2, 3, 4, 5], ['A', 'B', 'C', 'D', 'E'], ['N', 'S', 'S', 'E', 'W']])"
      ]
     },
     "execution_count": 78,
     "metadata": {},
     "output_type": "execute_result"
    }
   ],
   "source": [
    "Student_details.values()"
   ]
  },
  {
   "cell_type": "markdown",
   "id": "b60a6467",
   "metadata": {},
   "source": [
    "**pop**-Pop will remove the key value pair of that key passed inside the bracket"
   ]
  },
  {
   "cell_type": "code",
   "execution_count": 17,
   "id": "a2e3d138",
   "metadata": {},
   "outputs": [
    {
     "data": {
      "text/plain": [
       "[1, 2, 3, 4, 5]"
      ]
     },
     "execution_count": 17,
     "metadata": {},
     "output_type": "execute_result"
    }
   ],
   "source": [
    "Student_details.pop('stuid')"
   ]
  },
  {
   "cell_type": "code",
   "execution_count": 28,
   "id": "55b65a00",
   "metadata": {},
   "outputs": [
    {
     "data": {
      "text/plain": [
       "['A', 'B', 'C', 'D', 'E']"
      ]
     },
     "execution_count": 28,
     "metadata": {},
     "output_type": "execute_result"
    }
   ],
   "source": [
    "Student_details.pop('Sname')"
   ]
  },
  {
   "cell_type": "code",
   "execution_count": 32,
   "id": "1d6dd395",
   "metadata": {},
   "outputs": [],
   "source": [
    "Student_details['stu_name'] = Student_details.pop('Sname')"
   ]
  },
  {
   "cell_type": "markdown",
   "id": "f64deac8",
   "metadata": {},
   "source": [
    "**popitem**-It will remove the last key value pair"
   ]
  },
  {
   "cell_type": "code",
   "execution_count": 34,
   "id": "f126574b",
   "metadata": {},
   "outputs": [
    {
     "data": {
      "text/plain": [
       "('stu_name', ['A', 'B', 'C', 'D', 'E'])"
      ]
     },
     "execution_count": 34,
     "metadata": {},
     "output_type": "execute_result"
    }
   ],
   "source": [
    "Student_details.popitem()"
   ]
  },
  {
   "cell_type": "code",
   "execution_count": 35,
   "id": "8dcdd315",
   "metadata": {},
   "outputs": [
    {
     "data": {
      "text/plain": [
       "{'stuid': [1, 2, 3, 4, 5], 'sregion': ['N', 'S', 'S', 'E', 'W']}"
      ]
     },
     "execution_count": 35,
     "metadata": {},
     "output_type": "execute_result"
    }
   ],
   "source": [
    "Student_details"
   ]
  },
  {
   "cell_type": "markdown",
   "id": "c979ea75",
   "metadata": {},
   "source": [
    "**Setdefault** - It will create a new key with non as value"
   ]
  },
  {
   "cell_type": "code",
   "execution_count": 37,
   "id": "41f2d037",
   "metadata": {},
   "outputs": [],
   "source": [
    "Student_details.setdefault('Sname')"
   ]
  },
  {
   "cell_type": "code",
   "execution_count": 38,
   "id": "ddfe8e51",
   "metadata": {},
   "outputs": [
    {
     "data": {
      "text/plain": [
       "{'stuid': [1, 2, 3, 4, 5], 'sregion': ['N', 'S', 'S', 'E', 'W'], 'Sname': None}"
      ]
     },
     "execution_count": 38,
     "metadata": {},
     "output_type": "execute_result"
    }
   ],
   "source": [
    "Student_details"
   ]
  },
  {
   "cell_type": "code",
   "execution_count": 39,
   "id": "ffdfac95",
   "metadata": {},
   "outputs": [],
   "source": [
    "Student_details['Sname'] = ['A','B','C','D','E']"
   ]
  },
  {
   "cell_type": "code",
   "execution_count": 40,
   "id": "8a7303d9",
   "metadata": {},
   "outputs": [
    {
     "data": {
      "text/plain": [
       "{'stuid': [1, 2, 3, 4, 5],\n",
       " 'sregion': ['N', 'S', 'S', 'E', 'W'],\n",
       " 'Sname': ['A', 'B', 'C', 'D', 'E']}"
      ]
     },
     "execution_count": 40,
     "metadata": {},
     "output_type": "execute_result"
    }
   ],
   "source": [
    "Student_details"
   ]
  },
  {
   "cell_type": "code",
   "execution_count": null,
   "id": "7f6c30e9",
   "metadata": {},
   "outputs": [],
   "source": [
    "We"
   ]
  },
  {
   "cell_type": "code",
   "execution_count": 41,
   "id": "58e3787f",
   "metadata": {},
   "outputs": [],
   "source": [
    "dict1 = {'A':1,'A':2}"
   ]
  },
  {
   "cell_type": "code",
   "execution_count": 42,
   "id": "7775e755",
   "metadata": {},
   "outputs": [
    {
     "data": {
      "text/plain": [
       "{'A': 2}"
      ]
     },
     "execution_count": 42,
     "metadata": {},
     "output_type": "execute_result"
    }
   ],
   "source": [
    "dict1"
   ]
  },
  {
   "cell_type": "code",
   "execution_count": 43,
   "id": "56c361fa",
   "metadata": {},
   "outputs": [],
   "source": [
    "dict1 = {1:2,3:4,5:6}\n",
    "dict2 = {1:10,10:12}"
   ]
  },
  {
   "cell_type": "code",
   "execution_count": 44,
   "id": "6d082c40",
   "metadata": {},
   "outputs": [],
   "source": [
    "dict1.update(dict2)"
   ]
  },
  {
   "cell_type": "code",
   "execution_count": 45,
   "id": "0e73474b",
   "metadata": {},
   "outputs": [
    {
     "data": {
      "text/plain": [
       "{1: 10, 3: 4, 5: 6, 10: 12}"
      ]
     },
     "execution_count": 45,
     "metadata": {},
     "output_type": "execute_result"
    }
   ],
   "source": [
    "dict1"
   ]
  },
  {
   "cell_type": "code",
   "execution_count": 46,
   "id": "17556ba8",
   "metadata": {},
   "outputs": [
    {
     "data": {
      "text/plain": [
       "{'stuid': [1, 2, 3, 4, 5],\n",
       " 'sregion': ['N', 'S', 'S', 'E', 'W'],\n",
       " 'Sname': ['A', 'B', 'C', 'D', 'E']}"
      ]
     },
     "execution_count": 46,
     "metadata": {},
     "output_type": "execute_result"
    }
   ],
   "source": [
    "Student_details"
   ]
  },
  {
   "cell_type": "code",
   "execution_count": 47,
   "id": "561fd672",
   "metadata": {},
   "outputs": [],
   "source": [
    "import pandas as pd"
   ]
  },
  {
   "cell_type": "code",
   "execution_count": 49,
   "id": "ca810ee0",
   "metadata": {},
   "outputs": [
    {
     "data": {
      "text/html": [
       "<div>\n",
       "<style scoped>\n",
       "    .dataframe tbody tr th:only-of-type {\n",
       "        vertical-align: middle;\n",
       "    }\n",
       "\n",
       "    .dataframe tbody tr th {\n",
       "        vertical-align: top;\n",
       "    }\n",
       "\n",
       "    .dataframe thead th {\n",
       "        text-align: right;\n",
       "    }\n",
       "</style>\n",
       "<table border=\"1\" class=\"dataframe\">\n",
       "  <thead>\n",
       "    <tr style=\"text-align: right;\">\n",
       "      <th></th>\n",
       "      <th>stuid</th>\n",
       "      <th>sregion</th>\n",
       "      <th>Sname</th>\n",
       "    </tr>\n",
       "  </thead>\n",
       "  <tbody>\n",
       "    <tr>\n",
       "      <th>0</th>\n",
       "      <td>1</td>\n",
       "      <td>N</td>\n",
       "      <td>A</td>\n",
       "    </tr>\n",
       "    <tr>\n",
       "      <th>1</th>\n",
       "      <td>2</td>\n",
       "      <td>S</td>\n",
       "      <td>B</td>\n",
       "    </tr>\n",
       "    <tr>\n",
       "      <th>2</th>\n",
       "      <td>3</td>\n",
       "      <td>S</td>\n",
       "      <td>C</td>\n",
       "    </tr>\n",
       "    <tr>\n",
       "      <th>3</th>\n",
       "      <td>4</td>\n",
       "      <td>E</td>\n",
       "      <td>D</td>\n",
       "    </tr>\n",
       "    <tr>\n",
       "      <th>4</th>\n",
       "      <td>5</td>\n",
       "      <td>W</td>\n",
       "      <td>E</td>\n",
       "    </tr>\n",
       "  </tbody>\n",
       "</table>\n",
       "</div>"
      ],
      "text/plain": [
       "   stuid sregion Sname\n",
       "0      1       N     A\n",
       "1      2       S     B\n",
       "2      3       S     C\n",
       "3      4       E     D\n",
       "4      5       W     E"
      ]
     },
     "execution_count": 49,
     "metadata": {},
     "output_type": "execute_result"
    }
   ],
   "source": [
    "pd.DataFrame(Student_details)"
   ]
  },
  {
   "cell_type": "markdown",
   "id": "3771642c",
   "metadata": {},
   "source": [
    "**Range**- It generate the number from the given range"
   ]
  },
  {
   "cell_type": "code",
   "execution_count": 50,
   "id": "024fc755",
   "metadata": {},
   "outputs": [
    {
     "data": {
      "text/plain": [
       "[0, 1, 2, 3, 4, 5, 6, 7, 8, 9]"
      ]
     },
     "execution_count": 50,
     "metadata": {},
     "output_type": "execute_result"
    }
   ],
   "source": [
    "list(range(0,10))"
   ]
  },
  {
   "cell_type": "code",
   "execution_count": 52,
   "id": "94024203",
   "metadata": {},
   "outputs": [
    {
     "data": {
      "text/plain": [
       "[100, 90, 80, 70, 60, 50, 40, 30, 20]"
      ]
     },
     "execution_count": 52,
     "metadata": {},
     "output_type": "execute_result"
    }
   ],
   "source": [
    "list(range(100,10,-10))"
   ]
  },
  {
   "cell_type": "markdown",
   "id": "7fded611",
   "metadata": {},
   "source": [
    "**NoneType**- It is like a placeholder, we dont know the value but in future value may come"
   ]
  },
  {
   "cell_type": "code",
   "execution_count": 53,
   "id": "b264aa6e",
   "metadata": {},
   "outputs": [],
   "source": [
    "output = None"
   ]
  },
  {
   "cell_type": "code",
   "execution_count": 55,
   "id": "0ae7fa40",
   "metadata": {},
   "outputs": [
    {
     "data": {
      "text/plain": [
       "NoneType"
      ]
     },
     "execution_count": 55,
     "metadata": {},
     "output_type": "execute_result"
    }
   ],
   "source": [
    "type(output)"
   ]
  },
  {
   "cell_type": "markdown",
   "id": "35700d32",
   "metadata": {},
   "source": [
    "# Operators in Python"
   ]
  },
  {
   "cell_type": "markdown",
   "id": "9a896849",
   "metadata": {},
   "source": [
    "**Arithmetic**\n",
    "\n",
    "    1) + (Addition)\n",
    "    2) - (Subtraction)\n",
    "    3) * (Multiplication)\n",
    "    4) / (Division)\n",
    "    5) // (Floor Division)\n",
    "    6) % (Modulo)\n",
    "    7) ** (Power)"
   ]
  },
  {
   "cell_type": "code",
   "execution_count": 56,
   "id": "9716f7d5",
   "metadata": {},
   "outputs": [
    {
     "name": "stdout",
     "output_type": "stream",
     "text": [
      "num1+num2: 13\n",
      "num1-num2: 7\n",
      "num1*num2: 30\n",
      "num1/num2: 3.3333333333333335\n",
      "num1//num2: 3\n",
      "num1%num2: 1\n",
      "num1**num2: 1000\n"
     ]
    }
   ],
   "source": [
    "num1 = 10\n",
    "num2 = 3\n",
    "print('num1+num2:',num1+num2)\n",
    "print('num1-num2:',num1-num2)\n",
    "print('num1*num2:',num1*num2)\n",
    "print('num1/num2:',num1/num2)\n",
    "print('num1//num2:',num1//num2)\n",
    "print('num1%num2:',num1%num2)\n",
    "print('num1**num2:',num1**num2)     "
   ]
  },
  {
   "cell_type": "markdown",
   "id": "3ce592f6",
   "metadata": {},
   "source": [
    "when there are two string will be conatenate if we use + in between"
   ]
  },
  {
   "cell_type": "code",
   "execution_count": 57,
   "id": "be8e44fe",
   "metadata": {},
   "outputs": [
    {
     "data": {
      "text/plain": [
       "'iftekharalam'"
      ]
     },
     "execution_count": 57,
     "metadata": {},
     "output_type": "execute_result"
    }
   ],
   "source": [
    "'iftekhar'+'alam'"
   ]
  },
  {
   "cell_type": "code",
   "execution_count": 58,
   "id": "c5797dd8",
   "metadata": {},
   "outputs": [
    {
     "data": {
      "text/plain": [
       "'1020'"
      ]
     },
     "execution_count": 58,
     "metadata": {},
     "output_type": "execute_result"
    }
   ],
   "source": [
    "'10'+'20'"
   ]
  },
  {
   "cell_type": "markdown",
   "id": "91c92e4a",
   "metadata": {},
   "source": [
    "**Type casting**- Converting the data into an integer from the string"
   ]
  },
  {
   "cell_type": "code",
   "execution_count": 59,
   "id": "7102085f",
   "metadata": {},
   "outputs": [
    {
     "data": {
      "text/plain": [
       "30"
      ]
     },
     "execution_count": 59,
     "metadata": {},
     "output_type": "execute_result"
    }
   ],
   "source": [
    "int('10')+int('20')"
   ]
  },
  {
   "cell_type": "markdown",
   "id": "6b4f27fd",
   "metadata": {},
   "source": [
    "**Relational or comprison**\n",
    "\n",
    "    1) < - less than\n",
    "    2) <= less than equal to\n",
    "    3) > - More than\n",
    "    4) >= More than equal to"
   ]
  },
  {
   "cell_type": "code",
   "execution_count": 61,
   "id": "4c609558",
   "metadata": {},
   "outputs": [
    {
     "name": "stdout",
     "output_type": "stream",
     "text": [
      "num1<num2: False\n",
      "num1<=num2: False\n",
      "num1>num2: True\n",
      "num1>=num2: True\n"
     ]
    }
   ],
   "source": [
    "num1 =10\n",
    "num2 =3\n",
    "print('num1<num2:',num1<num2)\n",
    "print('num1<=num2:',num1<=num2)\n",
    "print('num1>num2:',num1>num2)\n",
    "print('num1>=num2:',num1>=num2)\n"
   ]
  },
  {
   "cell_type": "markdown",
   "id": "3e422e0c",
   "metadata": {},
   "source": [
    "**Equality**\n",
    "\n",
    "    1) == - Equals to \n",
    "    2) != - Not equals to"
   ]
  },
  {
   "cell_type": "code",
   "execution_count": 62,
   "id": "9c0d72b2",
   "metadata": {},
   "outputs": [
    {
     "name": "stdout",
     "output_type": "stream",
     "text": [
      "num1==num2: False\n",
      "num1!=num2: True\n"
     ]
    }
   ],
   "source": [
    "num1=10\n",
    "num2=3\n",
    "print('num1==num2:',num1==num2)\n",
    "print('num1!=num2:',num1!=num2)\n"
   ]
  },
  {
   "cell_type": "markdown",
   "id": "ffc13d2f",
   "metadata": {},
   "source": [
    "**Assignment Operator**\n",
    "\n",
    "    1) +=\n",
    "    2) -=\n",
    "    3) *=\n",
    "    4) /=\n",
    "    5) //=\n",
    "    6) %=\n",
    "    7) **="
   ]
  },
  {
   "cell_type": "code",
   "execution_count": 71,
   "id": "5e70990d",
   "metadata": {},
   "outputs": [
    {
     "data": {
      "text/plain": [
       "40"
      ]
     },
     "execution_count": 71,
     "metadata": {},
     "output_type": "execute_result"
    }
   ],
   "source": [
    "num1 = 10\n",
    "num1+=30\n",
    "num1"
   ]
  },
  {
   "cell_type": "code",
   "execution_count": 65,
   "id": "1bbb8472",
   "metadata": {},
   "outputs": [
    {
     "data": {
      "text/plain": [
       "-20"
      ]
     },
     "execution_count": 65,
     "metadata": {},
     "output_type": "execute_result"
    }
   ],
   "source": [
    "num1 = 10\n",
    "num1-=30\n",
    "num1"
   ]
  },
  {
   "cell_type": "code",
   "execution_count": 66,
   "id": "78b109db",
   "metadata": {},
   "outputs": [
    {
     "data": {
      "text/plain": [
       "300"
      ]
     },
     "execution_count": 66,
     "metadata": {},
     "output_type": "execute_result"
    }
   ],
   "source": [
    "\n",
    "num1 = 10\n",
    "num1*=30\n",
    "num1"
   ]
  },
  {
   "cell_type": "code",
   "execution_count": 67,
   "id": "ba80606a",
   "metadata": {},
   "outputs": [
    {
     "data": {
      "text/plain": [
       "0.3333333333333333"
      ]
     },
     "execution_count": 67,
     "metadata": {},
     "output_type": "execute_result"
    }
   ],
   "source": [
    "num1 = 10\n",
    "num1/=30\n",
    "num1"
   ]
  },
  {
   "cell_type": "code",
   "execution_count": 73,
   "id": "654ae20c",
   "metadata": {},
   "outputs": [
    {
     "data": {
      "text/plain": [
       "2"
      ]
     },
     "execution_count": 73,
     "metadata": {},
     "output_type": "execute_result"
    }
   ],
   "source": [
    "num1 = 10\n",
    "num1//=4\n",
    "num1"
   ]
  },
  {
   "cell_type": "code",
   "execution_count": 72,
   "id": "14f9577f",
   "metadata": {},
   "outputs": [
    {
     "data": {
      "text/plain": [
       "2"
      ]
     },
     "execution_count": 72,
     "metadata": {},
     "output_type": "execute_result"
    }
   ],
   "source": [
    "num1 = 10\n",
    "num1%=4\n",
    "num1"
   ]
  },
  {
   "cell_type": "code",
   "execution_count": 70,
   "id": "7a7a132d",
   "metadata": {},
   "outputs": [
    {
     "data": {
      "text/plain": [
       "1000000000000000000000000000000"
      ]
     },
     "execution_count": 70,
     "metadata": {},
     "output_type": "execute_result"
    }
   ],
   "source": [
    "num1 = 10\n",
    "num1**=30\n",
    "num1"
   ]
  },
  {
   "cell_type": "markdown",
   "id": "62f834ac",
   "metadata": {},
   "source": [
    "**Ternary**"
   ]
  },
  {
   "cell_type": "code",
   "execution_count": 75,
   "id": "b9d5c283",
   "metadata": {},
   "outputs": [
    {
     "data": {
      "text/plain": [
       "30"
      ]
     },
     "execution_count": 75,
     "metadata": {},
     "output_type": "execute_result"
    }
   ],
   "source": [
    "10 if 10>20 else 30"
   ]
  },
  {
   "cell_type": "code",
   "execution_count": 76,
   "id": "c6d46d97",
   "metadata": {},
   "outputs": [
    {
     "data": {
      "text/plain": [
       "10"
      ]
     },
     "execution_count": 76,
     "metadata": {},
     "output_type": "execute_result"
    }
   ],
   "source": [
    "10 if 10<20 else 30"
   ]
  },
  {
   "cell_type": "code",
   "execution_count": 78,
   "id": "e1c7fae0",
   "metadata": {},
   "outputs": [
    {
     "data": {
      "text/plain": [
       "7"
      ]
     },
     "execution_count": 78,
     "metadata": {},
     "output_type": "execute_result"
    }
   ],
   "source": [
    "10 if 10>7>9 else 9 if 7>9 else 7"
   ]
  },
  {
   "cell_type": "code",
   "execution_count": 79,
   "id": "56fb661c",
   "metadata": {},
   "outputs": [
    {
     "data": {
      "text/plain": [
       "10"
      ]
     },
     "execution_count": 79,
     "metadata": {},
     "output_type": "execute_result"
    }
   ],
   "source": [
    "10 if 10>7 and 10>9 else 9 if 7>9 else 7"
   ]
  },
  {
   "cell_type": "code",
   "execution_count": 81,
   "id": "fc43d1c7",
   "metadata": {},
   "outputs": [
    {
     "data": {
      "text/plain": [
       "10"
      ]
     },
     "execution_count": 81,
     "metadata": {},
     "output_type": "execute_result"
    }
   ],
   "source": [
    "10 if 10>7 or 1>9 else 9 if 7>9 else 7"
   ]
  },
  {
   "cell_type": "markdown",
   "id": "8c2cb58c",
   "metadata": {},
   "source": [
    "**Special**\n",
    "\n",
    "    1) Identity Oprator\n",
    "        a)is\n",
    "        b) is not\n",
    "    2) Membership Operator\n",
    "        a)in \n",
    "        b) not in"
   ]
  },
  {
   "cell_type": "code",
   "execution_count": 82,
   "id": "2a6cd2c5",
   "metadata": {},
   "outputs": [
    {
     "data": {
      "text/plain": [
       "True"
      ]
     },
     "execution_count": 82,
     "metadata": {},
     "output_type": "execute_result"
    }
   ],
   "source": [
    "a=10\n",
    "b=10\n",
    "a is b"
   ]
  },
  {
   "cell_type": "code",
   "execution_count": 84,
   "id": "f40d90d7",
   "metadata": {},
   "outputs": [
    {
     "data": {
      "text/plain": [
       "True"
      ]
     },
     "execution_count": 84,
     "metadata": {},
     "output_type": "execute_result"
    }
   ],
   "source": [
    "a=1000\n",
    "b=1000\n",
    "a is not b"
   ]
  },
  {
   "cell_type": "code",
   "execution_count": 86,
   "id": "0256ffe6",
   "metadata": {},
   "outputs": [
    {
     "data": {
      "text/plain": [
       "False"
      ]
     },
     "execution_count": 86,
     "metadata": {},
     "output_type": "execute_result"
    }
   ],
   "source": [
    "list1 =[10,20,30,40,50]\n",
    "50 not in list1"
   ]
  },
  {
   "cell_type": "markdown",
   "id": "d8ffd1c5",
   "metadata": {},
   "source": [
    "\n",
    "# Input and output"
   ]
  },
  {
   "cell_type": "markdown",
   "id": "48f8096f",
   "metadata": {},
   "source": [
    "Input - It will always stores the value in the form of a sting"
   ]
  },
  {
   "cell_type": "code",
   "execution_count": 91,
   "id": "dac52471",
   "metadata": {},
   "outputs": [
    {
     "name": "stdout",
     "output_type": "stream",
     "text": [
      "enter the marks:25\n"
     ]
    }
   ],
   "source": [
    "marks = int(input ('enter the marks:'))"
   ]
  },
  {
   "cell_type": "code",
   "execution_count": 92,
   "id": "9c14a9d7",
   "metadata": {},
   "outputs": [
    {
     "data": {
      "text/plain": [
       "int"
      ]
     },
     "execution_count": 92,
     "metadata": {},
     "output_type": "execute_result"
    }
   ],
   "source": [
    "type(marks)"
   ]
  },
  {
   "cell_type": "code",
   "execution_count": 93,
   "id": "7036a0e6",
   "metadata": {},
   "outputs": [
    {
     "data": {
      "text/plain": [
       "25"
      ]
     },
     "execution_count": 93,
     "metadata": {},
     "output_type": "execute_result"
    }
   ],
   "source": [
    "marks"
   ]
  },
  {
   "cell_type": "code",
   "execution_count": 100,
   "id": "418e615c",
   "metadata": {},
   "outputs": [
    {
     "name": "stdout",
     "output_type": "stream",
     "text": [
      "Hi\n",
      "Hello\n",
      "How are you\n"
     ]
    }
   ],
   "source": [
    "print('Hi', end='\\n')\n",
    "print('Hello', end='\\n')\n",
    "print('How are you', end='\\n')"
   ]
  },
  {
   "cell_type": "code",
   "execution_count": 101,
   "id": "3f5cafb1",
   "metadata": {},
   "outputs": [
    {
     "name": "stdout",
     "output_type": "stream",
     "text": [
      "Hi Hello How are you "
     ]
    }
   ],
   "source": [
    "print('Hi', end=' ')\n",
    "print('Hello', end=' ')\n",
    "print('How are you', end=' ')"
   ]
  },
  {
   "cell_type": "code",
   "execution_count": 98,
   "id": "e36fdad1",
   "metadata": {},
   "outputs": [
    {
     "name": "stdout",
     "output_type": "stream",
     "text": [
      "rahul\n",
      "Gaurav\n",
      "iftekhar\n"
     ]
    }
   ],
   "source": [
    "a = 'rahul'\n",
    "b = 'Gaurav'\n",
    "c = 'iftekhar'\n",
    "print(a)\n",
    "print(b)\n",
    "print(c)"
   ]
  },
  {
   "cell_type": "code",
   "execution_count": null,
   "id": "f198a593",
   "metadata": {},
   "outputs": [],
   "source": []
  },
  {
   "cell_type": "code",
   "execution_count": null,
   "id": "0d7c0bcb",
   "metadata": {},
   "outputs": [],
   "source": []
  },
  {
   "cell_type": "code",
   "execution_count": null,
   "id": "f59155b6",
   "metadata": {},
   "outputs": [],
   "source": []
  },
  {
   "cell_type": "code",
   "execution_count": null,
   "id": "a3fe5f2c",
   "metadata": {},
   "outputs": [],
   "source": []
  },
  {
   "cell_type": "code",
   "execution_count": null,
   "id": "8affdb9d",
   "metadata": {},
   "outputs": [],
   "source": []
  },
  {
   "cell_type": "code",
   "execution_count": null,
   "id": "c51233e1",
   "metadata": {},
   "outputs": [],
   "source": []
  },
  {
   "cell_type": "code",
   "execution_count": null,
   "id": "2c0bc4ad",
   "metadata": {},
   "outputs": [],
   "source": []
  }
 ],
 "metadata": {
  "kernelspec": {
   "display_name": "Python 3 (ipykernel)",
   "language": "python",
   "name": "python3"
  },
  "language_info": {
   "codemirror_mode": {
    "name": "ipython",
    "version": 3
   },
   "file_extension": ".py",
   "mimetype": "text/x-python",
   "name": "python",
   "nbconvert_exporter": "python",
   "pygments_lexer": "ipython3",
   "version": "3.10.9"
  }
 },
 "nbformat": 4,
 "nbformat_minor": 5
}
